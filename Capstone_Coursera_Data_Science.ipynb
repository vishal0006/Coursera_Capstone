{
 "cells": [
  {
   "cell_type": "markdown",
   "metadata": {},
   "source": [
    "# Capstone Project - The Battle of the Neighborhoods\n",
    "### Applied Data Science Capstone by IBM/Coursera"
   ]
  },
  {
   "cell_type": "markdown",
   "metadata": {},
   "source": [
    "## Table of contents\n",
    "* [Introduction: Business Problem](#introduction)\n",
    "* [Data](#data)\n",
    "* [Methodology](#methodology)\n",
    "* [Analysis](#analysis)\n",
    "* [Results](#results)\n",
    "* [Discussion](#discussion)\n",
    "* [Conclusion](#conclusion)"
   ]
  },
  {
   "cell_type": "markdown",
   "metadata": {},
   "source": [
    "## Introduction: Business Problem <a name=\"introduction\"></a>"
   ]
  },
  {
   "cell_type": "markdown",
   "metadata": {},
   "source": [
    "The fitness industry in Canada is growing at a rapid pace of more than 5% year on year. Being a fitness enthusiast myself, I would like to work on a problem faced by majority of people involved in fitness. We all know that exercise plays a vital in becoming fit. However, the DIET plays an even more important role in the overall process.\n",
    "\n",
    "For exercise, people join GYM, FITNESS CENTERS or simply go to park. But when it comes to the diet, we are unable to manage it on our own. Hence, I have come up with an idea of launching a chain of EAT-TO-GET-FIT outlets in Canada. It will take care of the complete meal for the person enrolling for the service. The unique-selling-point of these outlets will be that they will be strategically located very near to the GYMs/Fitness Centers etc. so that the enrolled member can eat at the outlet/take home the food after their work-out.\n",
    "\n",
    "In today's world, people are crazy about fitness and to sustain with the habit of exercising daily, they join a gym/fitness center. Meanwhile, EAT-TO-GET-FIT outlets will take care of their diet. I believe that this idea has a great potential and to test it in Canada, I would like to start with one outlet in Toronto. Now, to find the most optimal location for this outlet, I am taking up this project.\n",
    "\n",
    "In this project, we will put our data science mind to work and find out the most promising location in Toronto. We plan to have the outlet near the Gym or Fitness Centers because post the workout, people need food to re-energize themselves.\n",
    "\n",
    "The target audience for this project will be the entrepreneur who wants to find the location to open an eat to get fit outlet(restaurant) \n"
   ]
  },
  {
   "cell_type": "markdown",
   "metadata": {},
   "source": [
    "## Data <a name=\"data\"></a>"
   ]
  },
  {
   "cell_type": "markdown",
   "metadata": {},
   "source": [
    "#### Data Gathering Phase\n",
    "\n",
    "Data Requirements:\n",
    "* List of neighborhoods in Toronto, Canada\n",
    "* Latitude and Longitude of these neighborhoods\n",
    "* Venue Category data to understand the type of venues in each neighborhood\n",
    "\n",
    "Data Fetching: \n",
    "* Using the technique of web-scrapping to gather the list of neighborhoods in Toronto\n",
    "* Installing the Geocoder package to fetch the Latitudes and Longitudes the neighborhoods\n",
    "* Calling Foursquare API to get the details of various types of venues in these neighborhoods\n",
    "\n",
    "Out of all the features considered, we will consider Venue Category equal to Gym to segment the data. This data will be used for data analysis (using techniques like clustering) to come up with the most suitable location for opening the first outlet of EAT-TO-GET-FIT. "
   ]
  },
  {
   "cell_type": "markdown",
   "metadata": {},
   "source": [
    "#### Installing the important libraries in Jupyter"
   ]
  },
  {
   "cell_type": "code",
   "execution_count": 38,
   "metadata": {},
   "outputs": [
    {
     "name": "stdout",
     "output_type": "stream",
     "text": [
      "Solving environment: done\n",
      "\n",
      "\n",
      "==> WARNING: A newer version of conda exists. <==\n",
      "  current version: 4.5.11\n",
      "  latest version: 4.8.1\n",
      "\n",
      "Please update conda by running\n",
      "\n",
      "    $ conda update -n base -c defaults conda\n",
      "\n",
      "\n",
      "\n",
      "## Package Plan ##\n",
      "\n",
      "  environment location: /home/jupyterlab/conda/envs/python\n",
      "\n",
      "  added / updated specs: \n",
      "    - folium\n",
      "\n",
      "\n",
      "The following packages will be downloaded:\n",
      "\n",
      "    package                    |            build\n",
      "    ---------------------------|-----------------\n",
      "    folium-0.10.1              |             py_0          59 KB  conda-forge\n",
      "\n",
      "The following packages will be UPDATED:\n",
      "\n",
      "    folium: 0.5.0-py_0 conda-forge --> 0.10.1-py_0 conda-forge\n",
      "\n",
      "\n",
      "Downloading and Extracting Packages\n",
      "folium-0.10.1        | 59 KB     | ##################################### | 100% \n",
      "Preparing transaction: done\n",
      "Verifying transaction: done\n",
      "Executing transaction: done\n",
      "Solving environment: done\n",
      "\n",
      "\n",
      "==> WARNING: A newer version of conda exists. <==\n",
      "  current version: 4.5.11\n",
      "  latest version: 4.8.1\n",
      "\n",
      "Please update conda by running\n",
      "\n",
      "    $ conda update -n base -c defaults conda\n",
      "\n",
      "\n",
      "\n",
      "# All requested packages already installed.\n",
      "\n",
      "Solving environment: done\n",
      "\n",
      "\n",
      "==> WARNING: A newer version of conda exists. <==\n",
      "  current version: 4.5.11\n",
      "  latest version: 4.8.1\n",
      "\n",
      "Please update conda by running\n",
      "\n",
      "    $ conda update -n base -c defaults conda\n",
      "\n",
      "\n",
      "\n",
      "# All requested packages already installed.\n",
      "\n"
     ]
    }
   ],
   "source": [
    "!conda install -c conda-forge folium=0.5.0 --yes\n",
    "!conda install -c conda-forge geopy --yes\n",
    "!conda install -c conda-forge lxml --yes"
   ]
  },
  {
   "cell_type": "markdown",
   "metadata": {},
   "source": [
    "#### Importing the relevant libraries"
   ]
  },
  {
   "cell_type": "code",
   "execution_count": 3,
   "metadata": {},
   "outputs": [],
   "source": [
    "#importing necessary libraries\n",
    "import requests\n",
    "import pandas as pd\n",
    "import lxml\n",
    "import lxml.html as lh\n",
    "import numpy as np\n",
    "import folium\n",
    "from sklearn.cluster import KMeans\n",
    "print('Libraries Imported')"
   ]
  },
  {
   "cell_type": "markdown",
   "metadata": {},
   "source": [
    "#### Scrapping Borough and Neighborhoods in Toronto, Canada from Wikipedia Page"
   ]
  },
  {
   "cell_type": "code",
   "execution_count": 4,
   "metadata": {},
   "outputs": [
    {
     "name": "stdout",
     "output_type": "stream",
     "text": [
      "Page download successful\n"
     ]
    }
   ],
   "source": [
    "url  = \"https://en.wikipedia.org/wiki/List_of_postal_codes_of_Canada:_M\"\n",
    "page = requests.get(url)\n",
    "if page.status_code == 200:\n",
    "    print('Page download successful')\n",
    "else:\n",
    "    print('Page download error. Error code: {}'.format(page.status_code))"
   ]
  },
  {
   "cell_type": "code",
   "execution_count": 5,
   "metadata": {},
   "outputs": [
    {
     "data": {
      "text/html": [
       "<div>\n",
       "<style scoped>\n",
       "    .dataframe tbody tr th:only-of-type {\n",
       "        vertical-align: middle;\n",
       "    }\n",
       "\n",
       "    .dataframe tbody tr th {\n",
       "        vertical-align: top;\n",
       "    }\n",
       "\n",
       "    .dataframe thead th {\n",
       "        text-align: right;\n",
       "    }\n",
       "</style>\n",
       "<table border=\"1\" class=\"dataframe\">\n",
       "  <thead>\n",
       "    <tr style=\"text-align: right;\">\n",
       "      <th></th>\n",
       "      <th>Postcode</th>\n",
       "      <th>Borough</th>\n",
       "      <th>Neighbourhood</th>\n",
       "    </tr>\n",
       "  </thead>\n",
       "  <tbody>\n",
       "    <tr>\n",
       "      <th>0</th>\n",
       "      <td>M1A</td>\n",
       "      <td>NaN</td>\n",
       "      <td>NaN</td>\n",
       "    </tr>\n",
       "    <tr>\n",
       "      <th>1</th>\n",
       "      <td>M2A</td>\n",
       "      <td>NaN</td>\n",
       "      <td>NaN</td>\n",
       "    </tr>\n",
       "    <tr>\n",
       "      <th>2</th>\n",
       "      <td>M3A</td>\n",
       "      <td>North York</td>\n",
       "      <td>Parkwoods</td>\n",
       "    </tr>\n",
       "    <tr>\n",
       "      <th>3</th>\n",
       "      <td>M4A</td>\n",
       "      <td>North York</td>\n",
       "      <td>Victoria Village</td>\n",
       "    </tr>\n",
       "    <tr>\n",
       "      <th>4</th>\n",
       "      <td>M5A</td>\n",
       "      <td>Downtown Toronto</td>\n",
       "      <td>Harbourfront</td>\n",
       "    </tr>\n",
       "  </tbody>\n",
       "</table>\n",
       "</div>"
      ],
      "text/plain": [
       "  Postcode           Borough     Neighbourhood\n",
       "0      M1A               NaN               NaN\n",
       "1      M2A               NaN               NaN\n",
       "2      M3A        North York         Parkwoods\n",
       "3      M4A        North York  Victoria Village\n",
       "4      M5A  Downtown Toronto      Harbourfront"
      ]
     },
     "execution_count": 5,
     "metadata": {},
     "output_type": "execute_result"
    }
   ],
   "source": [
    "df_html = pd.read_html(url, header=0, na_values = ['Not assigned'])[0]\n",
    "df_html.head()"
   ]
  },
  {
   "cell_type": "markdown",
   "metadata": {},
   "source": [
    "#### Data Wrangling to eliminate NaN and Empty cells in the dataframe"
   ]
  },
  {
   "cell_type": "code",
   "execution_count": 6,
   "metadata": {},
   "outputs": [],
   "source": [
    "#Drop the the rows on which the Borough is empty\n",
    "df_html.dropna(subset=['Borough'], inplace=True)"
   ]
  },
  {
   "cell_type": "code",
   "execution_count": 7,
   "metadata": {},
   "outputs": [
    {
     "name": "stdout",
     "output_type": "stream",
     "text": [
      "Number of rows on which Neighborhood column is empty: 1\n"
     ]
    }
   ],
   "source": [
    "#Check Neighborhood is empty but Borough exists\n",
    "n_empty_neighborhood = df_html[df_html['Neighbourhood'].isna()].shape[0]\n",
    "print('Number of rows on which Neighborhood column is empty: {}'.format(n_empty_neighborhood))"
   ]
  },
  {
   "cell_type": "code",
   "execution_count": 8,
   "metadata": {},
   "outputs": [
    {
     "data": {
      "text/html": [
       "<div>\n",
       "<style scoped>\n",
       "    .dataframe tbody tr th:only-of-type {\n",
       "        vertical-align: middle;\n",
       "    }\n",
       "\n",
       "    .dataframe tbody tr th {\n",
       "        vertical-align: top;\n",
       "    }\n",
       "\n",
       "    .dataframe thead th {\n",
       "        text-align: right;\n",
       "    }\n",
       "</style>\n",
       "<table border=\"1\" class=\"dataframe\">\n",
       "  <thead>\n",
       "    <tr style=\"text-align: right;\">\n",
       "      <th></th>\n",
       "      <th>Postcode</th>\n",
       "      <th>Borough</th>\n",
       "      <th>Neighbourhood</th>\n",
       "    </tr>\n",
       "  </thead>\n",
       "  <tbody>\n",
       "    <tr>\n",
       "      <th>9</th>\n",
       "      <td>M9A</td>\n",
       "      <td>Queen's Park</td>\n",
       "      <td>NaN</td>\n",
       "    </tr>\n",
       "  </tbody>\n",
       "</table>\n",
       "</div>"
      ],
      "text/plain": [
       "  Postcode       Borough Neighbourhood\n",
       "9      M9A  Queen's Park           NaN"
      ]
     },
     "execution_count": 8,
     "metadata": {},
     "output_type": "execute_result"
    }
   ],
   "source": [
    "#Show which neighborhood is emtpy but Borough exists\n",
    "df_html[df_html['Neighbourhood'].isna()]"
   ]
  },
  {
   "cell_type": "code",
   "execution_count": 9,
   "metadata": {},
   "outputs": [
    {
     "name": "stdout",
     "output_type": "stream",
     "text": [
      "Number of rows on which Neighborhood column is empty: 0\n"
     ]
    }
   ],
   "source": [
    "#Replace empty Neighborhood with Borough name and check again\n",
    "df_html['Neighbourhood'].fillna(df_html['Borough'], inplace=True)\n",
    "n_empty_neighborhood = df_html[df_html['Neighbourhood'].isna()].shape[0]\n",
    "print('Number of rows on which Neighborhood column is empty: {}'.format(n_empty_neighborhood))"
   ]
  },
  {
   "cell_type": "code",
   "execution_count": 10,
   "metadata": {},
   "outputs": [
    {
     "data": {
      "text/html": [
       "<div>\n",
       "<style scoped>\n",
       "    .dataframe tbody tr th:only-of-type {\n",
       "        vertical-align: middle;\n",
       "    }\n",
       "\n",
       "    .dataframe tbody tr th {\n",
       "        vertical-align: top;\n",
       "    }\n",
       "\n",
       "    .dataframe thead th {\n",
       "        text-align: right;\n",
       "    }\n",
       "</style>\n",
       "<table border=\"1\" class=\"dataframe\">\n",
       "  <thead>\n",
       "    <tr style=\"text-align: right;\">\n",
       "      <th></th>\n",
       "      <th>Postcode</th>\n",
       "      <th>Borough</th>\n",
       "      <th>Neighbourhood</th>\n",
       "    </tr>\n",
       "  </thead>\n",
       "  <tbody>\n",
       "    <tr>\n",
       "      <th>9</th>\n",
       "      <td>M9A</td>\n",
       "      <td>Queen's Park</td>\n",
       "      <td>Queen's Park</td>\n",
       "    </tr>\n",
       "  </tbody>\n",
       "</table>\n",
       "</div>"
      ],
      "text/plain": [
       "  Postcode       Borough Neighbourhood\n",
       "9      M9A  Queen's Park  Queen's Park"
      ]
     },
     "execution_count": 10,
     "metadata": {},
     "output_type": "execute_result"
    }
   ],
   "source": [
    "#Confirm that Queen's Park Neighborhood is not empty now:\n",
    "df_html[df_html['Borough']==\"Queen's Park\"]"
   ]
  },
  {
   "cell_type": "code",
   "execution_count": 11,
   "metadata": {},
   "outputs": [
    {
     "data": {
      "text/html": [
       "<div>\n",
       "<style scoped>\n",
       "    .dataframe tbody tr th:only-of-type {\n",
       "        vertical-align: middle;\n",
       "    }\n",
       "\n",
       "    .dataframe tbody tr th {\n",
       "        vertical-align: top;\n",
       "    }\n",
       "\n",
       "    .dataframe thead th {\n",
       "        text-align: right;\n",
       "    }\n",
       "</style>\n",
       "<table border=\"1\" class=\"dataframe\">\n",
       "  <thead>\n",
       "    <tr style=\"text-align: right;\">\n",
       "      <th></th>\n",
       "      <th>Postcode</th>\n",
       "      <th>Borough</th>\n",
       "      <th>Neighbourhood</th>\n",
       "    </tr>\n",
       "  </thead>\n",
       "  <tbody>\n",
       "    <tr>\n",
       "      <th>0</th>\n",
       "      <td>M1B</td>\n",
       "      <td>Scarborough</td>\n",
       "      <td>Rouge, Malvern</td>\n",
       "    </tr>\n",
       "    <tr>\n",
       "      <th>1</th>\n",
       "      <td>M1C</td>\n",
       "      <td>Scarborough</td>\n",
       "      <td>Highland Creek, Rouge Hill, Port Union</td>\n",
       "    </tr>\n",
       "    <tr>\n",
       "      <th>2</th>\n",
       "      <td>M1E</td>\n",
       "      <td>Scarborough</td>\n",
       "      <td>Guildwood, Morningside, West Hill</td>\n",
       "    </tr>\n",
       "    <tr>\n",
       "      <th>3</th>\n",
       "      <td>M1G</td>\n",
       "      <td>Scarborough</td>\n",
       "      <td>Woburn</td>\n",
       "    </tr>\n",
       "    <tr>\n",
       "      <th>4</th>\n",
       "      <td>M1H</td>\n",
       "      <td>Scarborough</td>\n",
       "      <td>Cedarbrae</td>\n",
       "    </tr>\n",
       "  </tbody>\n",
       "</table>\n",
       "</div>"
      ],
      "text/plain": [
       "  Postcode      Borough                           Neighbourhood\n",
       "0      M1B  Scarborough                          Rouge, Malvern\n",
       "1      M1C  Scarborough  Highland Creek, Rouge Hill, Port Union\n",
       "2      M1E  Scarborough       Guildwood, Morningside, West Hill\n",
       "3      M1G  Scarborough                                  Woburn\n",
       "4      M1H  Scarborough                               Cedarbrae"
      ]
     },
     "execution_count": 11,
     "metadata": {},
     "output_type": "execute_result"
    }
   ],
   "source": [
    "#Group by Postcode / Borough\n",
    "df_postcodes = df_html.groupby(['Postcode','Borough']).Neighbourhood.agg([('Neighbourhood', ', '.join)])\n",
    "df_postcodes.reset_index(inplace=True)\n",
    "df_postcodes.head(5)"
   ]
  },
  {
   "cell_type": "code",
   "execution_count": 12,
   "metadata": {},
   "outputs": [],
   "source": [
    "#Drop the the rows on which the Borough is empty\n",
    "df_html.dropna(subset=['Borough'], inplace=True)"
   ]
  },
  {
   "cell_type": "code",
   "execution_count": 13,
   "metadata": {},
   "outputs": [
    {
     "name": "stdout",
     "output_type": "stream",
     "text": [
      "Number of rows on which Neighborhood column is empty: 0\n"
     ]
    }
   ],
   "source": [
    "#Check Neighborhood is empty but Borough exists\n",
    "n_empty_neighborhood = df_html[df_html['Neighbourhood'].isna()].shape[0]\n",
    "print('Number of rows on which Neighborhood column is empty: {}'.format(n_empty_neighborhood))"
   ]
  },
  {
   "cell_type": "code",
   "execution_count": 14,
   "metadata": {},
   "outputs": [
    {
     "name": "stdout",
     "output_type": "stream",
     "text": [
      "The shape of the dataset is: (103, 3)\n"
     ]
    }
   ],
   "source": [
    "print('The shape of the dataset is:',df_postcodes.shape)"
   ]
  },
  {
   "cell_type": "markdown",
   "metadata": {},
   "source": [
    "#### Dataset with the List of Neighborhoods is ready to saved in .csv format"
   ]
  },
  {
   "cell_type": "code",
   "execution_count": 4,
   "metadata": {},
   "outputs": [
    {
     "ename": "NameError",
     "evalue": "name 'df_postcodes' is not defined",
     "output_type": "error",
     "traceback": [
      "\u001b[0;31m---------------------------------------------------------------------------\u001b[0m",
      "\u001b[0;31mNameError\u001b[0m                                 Traceback (most recent call last)",
      "\u001b[0;32m<ipython-input-4-6a65ab6c22b9>\u001b[0m in \u001b[0;36m<module>\u001b[0;34m\u001b[0m\n\u001b[1;32m      1\u001b[0m \u001b[0;31m#exporting the dataframe as .csv file\u001b[0m\u001b[0;34m\u001b[0m\u001b[0;34m\u001b[0m\u001b[0;34m\u001b[0m\u001b[0m\n\u001b[0;32m----> 2\u001b[0;31m \u001b[0mdf_postcodes\u001b[0m\u001b[0;34m.\u001b[0m\u001b[0mto_csv\u001b[0m\u001b[0;34m(\u001b[0m\u001b[0;34m'Toronto_Postcodes.csv'\u001b[0m\u001b[0;34m)\u001b[0m\u001b[0;34m\u001b[0m\u001b[0;34m\u001b[0m\u001b[0m\n\u001b[0m",
      "\u001b[0;31mNameError\u001b[0m: name 'df_postcodes' is not defined"
     ]
    }
   ],
   "source": [
    "#exporting the dataframe as .csv file\n",
    "df_postcodes.to_csv('Toronto_Postcodes.csv')"
   ]
  },
  {
   "cell_type": "markdown",
   "metadata": {},
   "source": [
    "#### Fetching the Longitude and Latitude"
   ]
  },
  {
   "cell_type": "code",
   "execution_count": 18,
   "metadata": {},
   "outputs": [
    {
     "data": {
      "text/html": [
       "<div>\n",
       "<style scoped>\n",
       "    .dataframe tbody tr th:only-of-type {\n",
       "        vertical-align: middle;\n",
       "    }\n",
       "\n",
       "    .dataframe tbody tr th {\n",
       "        vertical-align: top;\n",
       "    }\n",
       "\n",
       "    .dataframe thead th {\n",
       "        text-align: right;\n",
       "    }\n",
       "</style>\n",
       "<table border=\"1\" class=\"dataframe\">\n",
       "  <thead>\n",
       "    <tr style=\"text-align: right;\">\n",
       "      <th></th>\n",
       "      <th>Postal Code</th>\n",
       "      <th>Latitude</th>\n",
       "      <th>Longitude</th>\n",
       "    </tr>\n",
       "  </thead>\n",
       "  <tbody>\n",
       "    <tr>\n",
       "      <th>0</th>\n",
       "      <td>M1B</td>\n",
       "      <td>43.806686</td>\n",
       "      <td>-79.194353</td>\n",
       "    </tr>\n",
       "    <tr>\n",
       "      <th>1</th>\n",
       "      <td>M1C</td>\n",
       "      <td>43.784535</td>\n",
       "      <td>-79.160497</td>\n",
       "    </tr>\n",
       "    <tr>\n",
       "      <th>2</th>\n",
       "      <td>M1E</td>\n",
       "      <td>43.763573</td>\n",
       "      <td>-79.188711</td>\n",
       "    </tr>\n",
       "    <tr>\n",
       "      <th>3</th>\n",
       "      <td>M1G</td>\n",
       "      <td>43.770992</td>\n",
       "      <td>-79.216917</td>\n",
       "    </tr>\n",
       "    <tr>\n",
       "      <th>4</th>\n",
       "      <td>M1H</td>\n",
       "      <td>43.773136</td>\n",
       "      <td>-79.239476</td>\n",
       "    </tr>\n",
       "  </tbody>\n",
       "</table>\n",
       "</div>"
      ],
      "text/plain": [
       "  Postal Code   Latitude  Longitude\n",
       "0         M1B  43.806686 -79.194353\n",
       "1         M1C  43.784535 -79.160497\n",
       "2         M1E  43.763573 -79.188711\n",
       "3         M1G  43.770992 -79.216917\n",
       "4         M1H  43.773136 -79.239476"
      ]
     },
     "execution_count": 18,
     "metadata": {},
     "output_type": "execute_result"
    }
   ],
   "source": [
    "#Read CSV file from link and load into dataframe\n",
    "url_csv = 'http://cocl.us/Geospatial_data'\n",
    "df_coordinates = pd.read_csv(url_csv)\n",
    "df_coordinates.head()"
   ]
  },
  {
   "cell_type": "code",
   "execution_count": 19,
   "metadata": {},
   "outputs": [
    {
     "data": {
      "text/html": [
       "<div>\n",
       "<style scoped>\n",
       "    .dataframe tbody tr th:only-of-type {\n",
       "        vertical-align: middle;\n",
       "    }\n",
       "\n",
       "    .dataframe tbody tr th {\n",
       "        vertical-align: top;\n",
       "    }\n",
       "\n",
       "    .dataframe thead th {\n",
       "        text-align: right;\n",
       "    }\n",
       "</style>\n",
       "<table border=\"1\" class=\"dataframe\">\n",
       "  <thead>\n",
       "    <tr style=\"text-align: right;\">\n",
       "      <th></th>\n",
       "      <th>Postcode</th>\n",
       "      <th>Borough</th>\n",
       "      <th>Neighbourhood</th>\n",
       "    </tr>\n",
       "  </thead>\n",
       "  <tbody>\n",
       "    <tr>\n",
       "      <th>0</th>\n",
       "      <td>M1B</td>\n",
       "      <td>Scarborough</td>\n",
       "      <td>Rouge, Malvern</td>\n",
       "    </tr>\n",
       "    <tr>\n",
       "      <th>1</th>\n",
       "      <td>M1C</td>\n",
       "      <td>Scarborough</td>\n",
       "      <td>Highland Creek, Rouge Hill, Port Union</td>\n",
       "    </tr>\n",
       "    <tr>\n",
       "      <th>2</th>\n",
       "      <td>M1E</td>\n",
       "      <td>Scarborough</td>\n",
       "      <td>Guildwood, Morningside, West Hill</td>\n",
       "    </tr>\n",
       "    <tr>\n",
       "      <th>3</th>\n",
       "      <td>M1G</td>\n",
       "      <td>Scarborough</td>\n",
       "      <td>Woburn</td>\n",
       "    </tr>\n",
       "    <tr>\n",
       "      <th>4</th>\n",
       "      <td>M1H</td>\n",
       "      <td>Scarborough</td>\n",
       "      <td>Cedarbrae</td>\n",
       "    </tr>\n",
       "  </tbody>\n",
       "</table>\n",
       "</div>"
      ],
      "text/plain": [
       "  Postcode      Borough                           Neighbourhood\n",
       "0      M1B  Scarborough                          Rouge, Malvern\n",
       "1      M1C  Scarborough  Highland Creek, Rouge Hill, Port Union\n",
       "2      M1E  Scarborough       Guildwood, Morningside, West Hill\n",
       "3      M1G  Scarborough                                  Woburn\n",
       "4      M1H  Scarborough                               Cedarbrae"
      ]
     },
     "execution_count": 19,
     "metadata": {},
     "output_type": "execute_result"
    }
   ],
   "source": [
    "#use the previously cleaned data\n",
    "df_neighborhoods = pd.read_csv('Toronto_Postcodes.csv',index_col=[0])\n",
    "df_neighborhoods.head()"
   ]
  },
  {
   "cell_type": "code",
   "execution_count": 20,
   "metadata": {},
   "outputs": [],
   "source": [
    "# Make sure both dataframes have the same \n",
    "df_coordinates.rename(columns={'Postal Code': 'PostalCode'}, inplace=True)\n",
    "df_neighborhoods.rename(columns={'Postcode': 'PostalCode'}, inplace=True)"
   ]
  },
  {
   "cell_type": "markdown",
   "metadata": {},
   "source": [
    "#### Merging both datasets"
   ]
  },
  {
   "cell_type": "code",
   "execution_count": 21,
   "metadata": {},
   "outputs": [
    {
     "data": {
      "text/html": [
       "<div>\n",
       "<style scoped>\n",
       "    .dataframe tbody tr th:only-of-type {\n",
       "        vertical-align: middle;\n",
       "    }\n",
       "\n",
       "    .dataframe tbody tr th {\n",
       "        vertical-align: top;\n",
       "    }\n",
       "\n",
       "    .dataframe thead th {\n",
       "        text-align: right;\n",
       "    }\n",
       "</style>\n",
       "<table border=\"1\" class=\"dataframe\">\n",
       "  <thead>\n",
       "    <tr style=\"text-align: right;\">\n",
       "      <th></th>\n",
       "      <th>PostalCode</th>\n",
       "      <th>Borough</th>\n",
       "      <th>Neighbourhood</th>\n",
       "      <th>Latitude</th>\n",
       "      <th>Longitude</th>\n",
       "    </tr>\n",
       "  </thead>\n",
       "  <tbody>\n",
       "    <tr>\n",
       "      <th>0</th>\n",
       "      <td>M1B</td>\n",
       "      <td>Scarborough</td>\n",
       "      <td>Rouge, Malvern</td>\n",
       "      <td>43.806686</td>\n",
       "      <td>-79.194353</td>\n",
       "    </tr>\n",
       "    <tr>\n",
       "      <th>1</th>\n",
       "      <td>M1C</td>\n",
       "      <td>Scarborough</td>\n",
       "      <td>Highland Creek, Rouge Hill, Port Union</td>\n",
       "      <td>43.784535</td>\n",
       "      <td>-79.160497</td>\n",
       "    </tr>\n",
       "    <tr>\n",
       "      <th>2</th>\n",
       "      <td>M1E</td>\n",
       "      <td>Scarborough</td>\n",
       "      <td>Guildwood, Morningside, West Hill</td>\n",
       "      <td>43.763573</td>\n",
       "      <td>-79.188711</td>\n",
       "    </tr>\n",
       "    <tr>\n",
       "      <th>3</th>\n",
       "      <td>M1G</td>\n",
       "      <td>Scarborough</td>\n",
       "      <td>Woburn</td>\n",
       "      <td>43.770992</td>\n",
       "      <td>-79.216917</td>\n",
       "    </tr>\n",
       "    <tr>\n",
       "      <th>4</th>\n",
       "      <td>M1H</td>\n",
       "      <td>Scarborough</td>\n",
       "      <td>Cedarbrae</td>\n",
       "      <td>43.773136</td>\n",
       "      <td>-79.239476</td>\n",
       "    </tr>\n",
       "  </tbody>\n",
       "</table>\n",
       "</div>"
      ],
      "text/plain": [
       "  PostalCode      Borough                           Neighbourhood   Latitude  \\\n",
       "0        M1B  Scarborough                          Rouge, Malvern  43.806686   \n",
       "1        M1C  Scarborough  Highland Creek, Rouge Hill, Port Union  43.784535   \n",
       "2        M1E  Scarborough       Guildwood, Morningside, West Hill  43.763573   \n",
       "3        M1G  Scarborough                                  Woburn  43.770992   \n",
       "4        M1H  Scarborough                               Cedarbrae  43.773136   \n",
       "\n",
       "   Longitude  \n",
       "0 -79.194353  \n",
       "1 -79.160497  \n",
       "2 -79.188711  \n",
       "3 -79.216917  \n",
       "4 -79.239476  "
      ]
     },
     "execution_count": 21,
     "metadata": {},
     "output_type": "execute_result"
    }
   ],
   "source": [
    "df_neighborhoods_coordinates = pd.merge(df_neighborhoods, df_coordinates, on='PostalCode')\n",
    "df_neighborhoods_coordinates.head()"
   ]
  },
  {
   "cell_type": "code",
   "execution_count": 22,
   "metadata": {},
   "outputs": [
    {
     "data": {
      "text/html": [
       "<div>\n",
       "<style scoped>\n",
       "    .dataframe tbody tr th:only-of-type {\n",
       "        vertical-align: middle;\n",
       "    }\n",
       "\n",
       "    .dataframe tbody tr th {\n",
       "        vertical-align: top;\n",
       "    }\n",
       "\n",
       "    .dataframe thead th {\n",
       "        text-align: right;\n",
       "    }\n",
       "</style>\n",
       "<table border=\"1\" class=\"dataframe\">\n",
       "  <thead>\n",
       "    <tr style=\"text-align: right;\">\n",
       "      <th></th>\n",
       "      <th>PostalCode</th>\n",
       "      <th>Borough</th>\n",
       "      <th>Neighbourhood</th>\n",
       "      <th>Latitude</th>\n",
       "      <th>Longitude</th>\n",
       "    </tr>\n",
       "  </thead>\n",
       "  <tbody>\n",
       "    <tr>\n",
       "      <th>17</th>\n",
       "      <td>M2H</td>\n",
       "      <td>North York</td>\n",
       "      <td>Hillcrest Village</td>\n",
       "      <td>43.803762</td>\n",
       "      <td>-79.363452</td>\n",
       "    </tr>\n",
       "    <tr>\n",
       "      <th>57</th>\n",
       "      <td>M5G</td>\n",
       "      <td>Downtown Toronto</td>\n",
       "      <td>Central Bay Street</td>\n",
       "      <td>43.657952</td>\n",
       "      <td>-79.387383</td>\n",
       "    </tr>\n",
       "  </tbody>\n",
       "</table>\n",
       "</div>"
      ],
      "text/plain": [
       "   PostalCode           Borough       Neighbourhood   Latitude  Longitude\n",
       "17        M2H        North York   Hillcrest Village  43.803762 -79.363452\n",
       "57        M5G  Downtown Toronto  Central Bay Street  43.657952 -79.387383"
      ]
     },
     "execution_count": 22,
     "metadata": {},
     "output_type": "execute_result"
    }
   ],
   "source": [
    "# Check coordinates for a couple of neighborhoods\n",
    "df_neighborhoods_coordinates[(df_neighborhoods_coordinates['PostalCode']=='M5G') |\n",
    "                             (df_neighborhoods_coordinates['PostalCode']=='M2H') ]"
   ]
  },
  {
   "cell_type": "code",
   "execution_count": 23,
   "metadata": {},
   "outputs": [],
   "source": [
    "#Export to .csv\n",
    "df_neighborhoods_coordinates.to_csv('Toronto_Postcodes_2.csv')"
   ]
  },
  {
   "cell_type": "code",
   "execution_count": 30,
   "metadata": {},
   "outputs": [
    {
     "data": {
      "text/html": [
       "<div>\n",
       "<style scoped>\n",
       "    .dataframe tbody tr th:only-of-type {\n",
       "        vertical-align: middle;\n",
       "    }\n",
       "\n",
       "    .dataframe tbody tr th {\n",
       "        vertical-align: top;\n",
       "    }\n",
       "\n",
       "    .dataframe thead th {\n",
       "        text-align: right;\n",
       "    }\n",
       "</style>\n",
       "<table border=\"1\" class=\"dataframe\">\n",
       "  <thead>\n",
       "    <tr style=\"text-align: right;\">\n",
       "      <th></th>\n",
       "      <th>PostalCode</th>\n",
       "      <th>Borough</th>\n",
       "      <th>Neighbourhood</th>\n",
       "      <th>Latitude</th>\n",
       "      <th>Longitude</th>\n",
       "    </tr>\n",
       "  </thead>\n",
       "  <tbody>\n",
       "    <tr>\n",
       "      <th>0</th>\n",
       "      <td>M1B</td>\n",
       "      <td>Scarborough</td>\n",
       "      <td>Rouge, Malvern</td>\n",
       "      <td>43.806686</td>\n",
       "      <td>-79.194353</td>\n",
       "    </tr>\n",
       "    <tr>\n",
       "      <th>1</th>\n",
       "      <td>M1C</td>\n",
       "      <td>Scarborough</td>\n",
       "      <td>Highland Creek, Rouge Hill, Port Union</td>\n",
       "      <td>43.784535</td>\n",
       "      <td>-79.160497</td>\n",
       "    </tr>\n",
       "    <tr>\n",
       "      <th>2</th>\n",
       "      <td>M1E</td>\n",
       "      <td>Scarborough</td>\n",
       "      <td>Guildwood, Morningside, West Hill</td>\n",
       "      <td>43.763573</td>\n",
       "      <td>-79.188711</td>\n",
       "    </tr>\n",
       "    <tr>\n",
       "      <th>3</th>\n",
       "      <td>M1G</td>\n",
       "      <td>Scarborough</td>\n",
       "      <td>Woburn</td>\n",
       "      <td>43.770992</td>\n",
       "      <td>-79.216917</td>\n",
       "    </tr>\n",
       "    <tr>\n",
       "      <th>4</th>\n",
       "      <td>M1H</td>\n",
       "      <td>Scarborough</td>\n",
       "      <td>Cedarbrae</td>\n",
       "      <td>43.773136</td>\n",
       "      <td>-79.239476</td>\n",
       "    </tr>\n",
       "  </tbody>\n",
       "</table>\n",
       "</div>"
      ],
      "text/plain": [
       "  PostalCode      Borough                           Neighbourhood   Latitude  \\\n",
       "0        M1B  Scarborough                          Rouge, Malvern  43.806686   \n",
       "1        M1C  Scarborough  Highland Creek, Rouge Hill, Port Union  43.784535   \n",
       "2        M1E  Scarborough       Guildwood, Morningside, West Hill  43.763573   \n",
       "3        M1G  Scarborough                                  Woburn  43.770992   \n",
       "4        M1H  Scarborough                               Cedarbrae  43.773136   \n",
       "\n",
       "   Longitude  \n",
       "0 -79.194353  \n",
       "1 -79.160497  \n",
       "2 -79.188711  \n",
       "3 -79.216917  \n",
       "4 -79.239476  "
      ]
     },
     "execution_count": 30,
     "metadata": {},
     "output_type": "execute_result"
    }
   ],
   "source": [
    "# Read .csv file from above\n",
    "df = pd.read_csv('Toronto_Postcodes_2.csv', index_col=0)\n",
    "df.head()"
   ]
  },
  {
   "cell_type": "code",
   "execution_count": 31,
   "metadata": {},
   "outputs": [
    {
     "name": "stdout",
     "output_type": "stream",
     "text": [
      "The dataframe has 11 boroughs and 103 neighborhoods.\n"
     ]
    }
   ],
   "source": [
    "print('The dataframe has {} boroughs and {} neighborhoods.'.format(\n",
    "        len(df['Borough'].unique()),\n",
    "        df.shape[0]\n",
    "    )\n",
    ")"
   ]
  },
  {
   "cell_type": "code",
   "execution_count": 32,
   "metadata": {},
   "outputs": [],
   "source": [
    "df.rename(columns={'Neighbourhood': 'Neighborhood'}, inplace=True)"
   ]
  },
  {
   "cell_type": "code",
   "execution_count": 33,
   "metadata": {},
   "outputs": [
    {
     "data": {
      "text/plain": [
       "Borough\n",
       "Central Toronto      9\n",
       "Downtown Toronto    19\n",
       "East Toronto         5\n",
       "East York            5\n",
       "Etobicoke           11\n",
       "Mississauga          1\n",
       "North York          24\n",
       "Queen's Park         1\n",
       "Scarborough         17\n",
       "West Toronto         6\n",
       "York                 5\n",
       "Name: Neighborhood, dtype: int64"
      ]
     },
     "execution_count": 33,
     "metadata": {},
     "output_type": "execute_result"
    }
   ],
   "source": [
    "#count Bourough and Neighborhood\n",
    "df.groupby('Borough').count()['Neighborhood']"
   ]
  },
  {
   "cell_type": "code",
   "execution_count": 86,
   "metadata": {},
   "outputs": [
    {
     "data": {
      "text/html": [
       "<div>\n",
       "<style scoped>\n",
       "    .dataframe tbody tr th:only-of-type {\n",
       "        vertical-align: middle;\n",
       "    }\n",
       "\n",
       "    .dataframe tbody tr th {\n",
       "        vertical-align: top;\n",
       "    }\n",
       "\n",
       "    .dataframe thead th {\n",
       "        text-align: right;\n",
       "    }\n",
       "</style>\n",
       "<table border=\"1\" class=\"dataframe\">\n",
       "  <thead>\n",
       "    <tr style=\"text-align: right;\">\n",
       "      <th></th>\n",
       "      <th>PostalCode</th>\n",
       "      <th>Borough</th>\n",
       "      <th>Neighborhood</th>\n",
       "      <th>Latitude</th>\n",
       "      <th>Longitude</th>\n",
       "    </tr>\n",
       "  </thead>\n",
       "  <tbody>\n",
       "    <tr>\n",
       "      <th>0</th>\n",
       "      <td>M1B</td>\n",
       "      <td>Scarborough</td>\n",
       "      <td>Rouge, Malvern</td>\n",
       "      <td>43.806686</td>\n",
       "      <td>-79.194353</td>\n",
       "    </tr>\n",
       "    <tr>\n",
       "      <th>1</th>\n",
       "      <td>M1C</td>\n",
       "      <td>Scarborough</td>\n",
       "      <td>Highland Creek, Rouge Hill, Port Union</td>\n",
       "      <td>43.784535</td>\n",
       "      <td>-79.160497</td>\n",
       "    </tr>\n",
       "    <tr>\n",
       "      <th>2</th>\n",
       "      <td>M1E</td>\n",
       "      <td>Scarborough</td>\n",
       "      <td>Guildwood, Morningside, West Hill</td>\n",
       "      <td>43.763573</td>\n",
       "      <td>-79.188711</td>\n",
       "    </tr>\n",
       "    <tr>\n",
       "      <th>3</th>\n",
       "      <td>M1G</td>\n",
       "      <td>Scarborough</td>\n",
       "      <td>Woburn</td>\n",
       "      <td>43.770992</td>\n",
       "      <td>-79.216917</td>\n",
       "    </tr>\n",
       "    <tr>\n",
       "      <th>4</th>\n",
       "      <td>M1H</td>\n",
       "      <td>Scarborough</td>\n",
       "      <td>Cedarbrae</td>\n",
       "      <td>43.773136</td>\n",
       "      <td>-79.239476</td>\n",
       "    </tr>\n",
       "  </tbody>\n",
       "</table>\n",
       "</div>"
      ],
      "text/plain": [
       "  PostalCode      Borough                            Neighborhood   Latitude  \\\n",
       "0        M1B  Scarborough                          Rouge, Malvern  43.806686   \n",
       "1        M1C  Scarborough  Highland Creek, Rouge Hill, Port Union  43.784535   \n",
       "2        M1E  Scarborough       Guildwood, Morningside, West Hill  43.763573   \n",
       "3        M1G  Scarborough                                  Woburn  43.770992   \n",
       "4        M1H  Scarborough                               Cedarbrae  43.773136   \n",
       "\n",
       "   Longitude  \n",
       "0 -79.194353  \n",
       "1 -79.160497  \n",
       "2 -79.188711  \n",
       "3 -79.216917  \n",
       "4 -79.239476  "
      ]
     },
     "execution_count": 86,
     "metadata": {},
     "output_type": "execute_result"
    }
   ],
   "source": [
    "df_toronto = df\n",
    "df_toronto.head()"
   ]
  },
  {
   "cell_type": "code",
   "execution_count": 35,
   "metadata": {},
   "outputs": [
    {
     "name": "stdout",
     "output_type": "stream",
     "text": [
      "Borough\n",
      "Central Toronto      9\n",
      "Downtown Toronto    19\n",
      "East Toronto         5\n",
      "East York            5\n",
      "Etobicoke           11\n",
      "Mississauga          1\n",
      "North York          24\n",
      "Queen's Park         1\n",
      "Scarborough         17\n",
      "West Toronto         6\n",
      "York                 5\n",
      "Name: Neighborhood, dtype: int64\n"
     ]
    }
   ],
   "source": [
    "#Check the number of neighborhoods\n",
    "print(df_toronto.groupby('Borough').count()['Neighborhood'])"
   ]
  },
  {
   "cell_type": "code",
   "execution_count": 36,
   "metadata": {},
   "outputs": [],
   "source": [
    "#Create list with the Boroughs (to be used later)\n",
    "boroughs = df_toronto['Borough'].unique().tolist()"
   ]
  },
  {
   "cell_type": "code",
   "execution_count": 37,
   "metadata": {},
   "outputs": [
    {
     "name": "stdout",
     "output_type": "stream",
     "text": [
      "The geographical coordinates of Toronto are 43.70460773398059, -79.39715291165048\n"
     ]
    }
   ],
   "source": [
    "#Obtain the coordinates from the dataset itself, just averaging Latitude/Longitude of the current dataset \n",
    "lat_toronto = df_toronto['Latitude'].mean()\n",
    "lon_toronto = df_toronto['Longitude'].mean()\n",
    "print('The geographical coordinates of Toronto are {}, {}'.format(lat_toronto, lon_toronto))"
   ]
  },
  {
   "cell_type": "code",
   "execution_count": 38,
   "metadata": {},
   "outputs": [],
   "source": [
    "borough_color = {}\n",
    "for borough in boroughs:\n",
    "    borough_color[borough]= '#%02X%02X%02X' % tuple(np.random.choice(range(256), size=3)) #Random color"
   ]
  },
  {
   "cell_type": "markdown",
   "metadata": {},
   "source": [
    "#### Visualizing the Toronto Neighborhood Merged Dataset"
   ]
  },
  {
   "cell_type": "code",
   "execution_count": 39,
   "metadata": {},
   "outputs": [
    {
     "data": {
      "text/html": [
       "<div style=\"width:100%;\"><div style=\"position:relative;width:100%;height:0;padding-bottom:60%;\"><iframe src=\"data:text/html;charset=utf-8;base64,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\" style=\"position:absolute;width:100%;height:100%;left:0;top:0;border:none !important;\" allowfullscreen webkitallowfullscreen mozallowfullscreen></iframe></div></div>"
      ],
      "text/plain": [
       "<folium.folium.Map at 0x7f82b8a3d6d8>"
      ]
     },
     "execution_count": 39,
     "metadata": {},
     "output_type": "execute_result"
    }
   ],
   "source": [
    "map_toronto = folium.Map(location=[lat_toronto, lon_toronto], zoom_start=11)\n",
    "\n",
    "# add markers to map\n",
    "for lat, lng, borough, neighborhood in zip(df_toronto['Latitude'], \n",
    "                                           df_toronto['Longitude'],\n",
    "                                           df_toronto['Borough'], \n",
    "                                           df_toronto['Neighborhood']):\n",
    "    label_text = borough + ' - ' + neighborhood\n",
    "    label = folium.Popup(label_text, parse_html=True)\n",
    "    folium.CircleMarker(\n",
    "        [lat, lng],\n",
    "        radius=5,\n",
    "        popup=label,\n",
    "        color=borough_color[borough],\n",
    "        fill=True,\n",
    "        fill_color=borough_color[borough],\n",
    "        fill_opacity=0.7).add_to(map_toronto)  \n",
    "    \n",
    "map_toronto"
   ]
  },
  {
   "cell_type": "markdown",
   "metadata": {},
   "source": [
    "#### Getting Venues Data using Foursquare"
   ]
  },
  {
   "cell_type": "code",
   "execution_count": 40,
   "metadata": {},
   "outputs": [],
   "source": [
    "CLIENT_ID = 'QUYY030NYACJTAFZ3QK4CIBXQ4YLY0ELZH1AXXKZ1VDKUFFV' # your Foursquare ID\n",
    "CLIENT_SECRET = 'J0OI25U1SFYHSI4U4TXOMGLRXCSWLQNUX5AVDK5APTSY0KNL' # your Foursquare Secret\n",
    "VERSION = '20180605' # Foursquare API version\n",
    "LIMIT = 100 # limit of number of venues returned by Foursquare API\n",
    "radius = 500 # define radius"
   ]
  },
  {
   "cell_type": "code",
   "execution_count": 41,
   "metadata": {},
   "outputs": [],
   "source": [
    "def getNearbyVenues(names, latitudes, longitudes, radius=500):\n",
    "    \n",
    "    venues_list=[]\n",
    "    for name, lat, lng in zip(names, latitudes, longitudes):\n",
    "        print(name)\n",
    "            \n",
    "        # create the API request URL\n",
    "        url = 'https://api.foursquare.com/v2/venues/explore?&client_id={}&client_secret={}&v={}&ll={},{}&radius={}&limit={}'.format(\n",
    "            CLIENT_ID, \n",
    "            CLIENT_SECRET, \n",
    "            VERSION, \n",
    "            lat, \n",
    "            lng, \n",
    "            radius, \n",
    "            LIMIT)\n",
    "            \n",
    "        # make the GET request\n",
    "        results = requests.get(url).json()[\"response\"]['groups'][0]['items']\n",
    "        \n",
    "        # return only relevant information for each nearby venue\n",
    "        venues_list.append([(\n",
    "            name, \n",
    "            lat, \n",
    "            lng, \n",
    "            v['venue']['name'], \n",
    "            v['venue']['location']['lat'], \n",
    "            v['venue']['location']['lng'],  \n",
    "            v['venue']['categories'][0]['name']) for v in results])\n",
    "\n",
    "    nearby_venues = pd.DataFrame([item for venue_list in venues_list for item in venue_list])\n",
    "    nearby_venues.columns = ['Neighborhood', \n",
    "                  'Neighborhood Latitude', \n",
    "                  'Neighborhood Longitude', \n",
    "                  'Venue', \n",
    "                  'Venue Latitude', \n",
    "                  'Venue Longitude', \n",
    "                  'Venue Category']\n",
    "    \n",
    "    return(nearby_venues)"
   ]
  },
  {
   "cell_type": "code",
   "execution_count": 42,
   "metadata": {},
   "outputs": [
    {
     "name": "stdout",
     "output_type": "stream",
     "text": [
      "Rouge, Malvern\n",
      "Highland Creek, Rouge Hill, Port Union\n",
      "Guildwood, Morningside, West Hill\n",
      "Woburn\n",
      "Cedarbrae\n",
      "Scarborough Village\n",
      "East Birchmount Park, Ionview, Kennedy Park\n",
      "Clairlea, Golden Mile, Oakridge\n",
      "Cliffcrest, Cliffside, Scarborough Village West\n",
      "Birch Cliff, Cliffside West\n",
      "Dorset Park, Scarborough Town Centre, Wexford Heights\n",
      "Maryvale, Wexford\n",
      "Agincourt\n",
      "Clarks Corners, Sullivan, Tam O'Shanter\n",
      "Agincourt North, L'Amoreaux East, Milliken, Steeles East\n",
      "L'Amoreaux West\n",
      "Upper Rouge\n",
      "Hillcrest Village\n",
      "Fairview, Henry Farm, Oriole\n",
      "Bayview Village\n",
      "Silver Hills, York Mills\n",
      "Newtonbrook, Willowdale\n",
      "Willowdale South\n",
      "York Mills West\n",
      "Willowdale West\n",
      "Parkwoods\n",
      "Don Mills North\n",
      "Flemingdon Park, Don Mills South\n",
      "Bathurst Manor, Downsview North, Wilson Heights\n",
      "Northwood Park, York University\n",
      "CFB Toronto, Downsview East\n",
      "Downsview West\n",
      "Downsview Central\n",
      "Downsview Northwest\n",
      "Victoria Village\n",
      "Woodbine Gardens, Parkview Hill\n",
      "Woodbine Heights\n",
      "The Beaches\n",
      "Leaside\n",
      "Thorncliffe Park\n",
      "East Toronto\n",
      "The Danforth West, Riverdale\n",
      "The Beaches West, India Bazaar\n",
      "Studio District\n",
      "Lawrence Park\n",
      "Davisville North\n",
      "North Toronto West\n",
      "Davisville\n",
      "Moore Park, Summerhill East\n",
      "Deer Park, Forest Hill SE, Rathnelly, South Hill, Summerhill West\n",
      "Rosedale\n",
      "Cabbagetown, St. James Town\n",
      "Church and Wellesley\n",
      "Harbourfront\n",
      "Ryerson, Garden District\n",
      "St. James Town\n",
      "Berczy Park\n",
      "Central Bay Street\n",
      "Adelaide, King, Richmond\n",
      "Harbourfront East, Toronto Islands, Union Station\n",
      "Design Exchange, Toronto Dominion Centre\n",
      "Commerce Court, Victoria Hotel\n",
      "Bedford Park, Lawrence Manor East\n",
      "Roselawn\n",
      "Forest Hill North, Forest Hill West\n",
      "The Annex, North Midtown, Yorkville\n",
      "Harbord, University of Toronto\n",
      "Chinatown, Grange Park, Kensington Market\n",
      "CN Tower, Bathurst Quay, Island airport, Harbourfront West, King and Spadina, Railway Lands, South Niagara\n",
      "Stn A PO Boxes 25 The Esplanade\n",
      "First Canadian Place, Underground city\n",
      "Lawrence Heights, Lawrence Manor\n",
      "Glencairn\n",
      "Humewood-Cedarvale\n",
      "Caledonia-Fairbanks\n",
      "Christie\n",
      "Dovercourt Village, Dufferin\n",
      "Little Portugal, Trinity\n",
      "Brockton, Exhibition Place, Parkdale Village\n",
      "Downsview, North Park, Upwood Park\n",
      "Del Ray, Keelesdale, Mount Dennis, Silverthorn\n",
      "The Junction North, Runnymede\n",
      "High Park, The Junction South\n",
      "Parkdale, Roncesvalles\n",
      "Runnymede, Swansea\n",
      "Queen's Park\n",
      "Canada Post Gateway Processing Centre\n",
      "Business Reply Mail Processing Centre 969 Eastern\n",
      "Humber Bay Shores, Mimico South, New Toronto\n",
      "Alderwood, Long Branch\n",
      "The Kingsway, Montgomery Road, Old Mill North\n",
      "Humber Bay, King's Mill Park, Kingsway Park South East, Mimico NE, Old Mill South, The Queensway East, Royal York South East, Sunnylea\n",
      "Kingsway Park South West, Mimico NW, The Queensway West, Royal York South West, South of Bloor\n",
      "Queen's Park\n",
      "Cloverdale, Islington, Martin Grove, Princess Gardens, West Deane Park\n",
      "Bloordale Gardens, Eringate, Markland Wood, Old Burnhamthorpe\n",
      "Humber Summit\n",
      "Emery, Humberlea\n",
      "Weston\n",
      "Westmount\n",
      "Kingsview Village, Martin Grove Gardens, Richview Gardens, St. Phillips\n",
      "Albion Gardens, Beaumond Heights, Humbergate, Jamestown, Mount Olive, Silverstone, South Steeles, Thistletown\n",
      "Northwest\n"
     ]
    }
   ],
   "source": [
    "#Get venues for all neighborhoods in our dataset\n",
    "toronto_venues = getNearbyVenues(names=df_toronto['Neighborhood'],\n",
    "                                latitudes=df_toronto['Latitude'],\n",
    "                                longitudes=df_toronto['Longitude'])"
   ]
  },
  {
   "cell_type": "code",
   "execution_count": 45,
   "metadata": {},
   "outputs": [
    {
     "data": {
      "text/plain": [
       "(2213, 7)"
      ]
     },
     "execution_count": 45,
     "metadata": {},
     "output_type": "execute_result"
    }
   ],
   "source": [
    "#Check size of resulting dataframe\n",
    "toronto_venues.shape"
   ]
  },
  {
   "cell_type": "code",
   "execution_count": 46,
   "metadata": {},
   "outputs": [
    {
     "data": {
      "text/html": [
       "<div>\n",
       "<style scoped>\n",
       "    .dataframe tbody tr th:only-of-type {\n",
       "        vertical-align: middle;\n",
       "    }\n",
       "\n",
       "    .dataframe tbody tr th {\n",
       "        vertical-align: top;\n",
       "    }\n",
       "\n",
       "    .dataframe thead th {\n",
       "        text-align: right;\n",
       "    }\n",
       "</style>\n",
       "<table border=\"1\" class=\"dataframe\">\n",
       "  <thead>\n",
       "    <tr style=\"text-align: right;\">\n",
       "      <th></th>\n",
       "      <th>Neighborhood</th>\n",
       "      <th>Neighborhood Latitude</th>\n",
       "      <th>Neighborhood Longitude</th>\n",
       "      <th>Venue</th>\n",
       "      <th>Venue Latitude</th>\n",
       "      <th>Venue Longitude</th>\n",
       "      <th>Venue Category</th>\n",
       "    </tr>\n",
       "  </thead>\n",
       "  <tbody>\n",
       "    <tr>\n",
       "      <th>0</th>\n",
       "      <td>Rouge, Malvern</td>\n",
       "      <td>43.806686</td>\n",
       "      <td>-79.194353</td>\n",
       "      <td>Wendy's</td>\n",
       "      <td>43.807448</td>\n",
       "      <td>-79.199056</td>\n",
       "      <td>Fast Food Restaurant</td>\n",
       "    </tr>\n",
       "    <tr>\n",
       "      <th>1</th>\n",
       "      <td>Rouge, Malvern</td>\n",
       "      <td>43.806686</td>\n",
       "      <td>-79.194353</td>\n",
       "      <td>Interprovincial Group</td>\n",
       "      <td>43.805630</td>\n",
       "      <td>-79.200378</td>\n",
       "      <td>Print Shop</td>\n",
       "    </tr>\n",
       "    <tr>\n",
       "      <th>2</th>\n",
       "      <td>Highland Creek, Rouge Hill, Port Union</td>\n",
       "      <td>43.784535</td>\n",
       "      <td>-79.160497</td>\n",
       "      <td>Royal Canadian Legion</td>\n",
       "      <td>43.782533</td>\n",
       "      <td>-79.163085</td>\n",
       "      <td>Bar</td>\n",
       "    </tr>\n",
       "    <tr>\n",
       "      <th>3</th>\n",
       "      <td>Guildwood, Morningside, West Hill</td>\n",
       "      <td>43.763573</td>\n",
       "      <td>-79.188711</td>\n",
       "      <td>Swiss Chalet Rotisserie &amp; Grill</td>\n",
       "      <td>43.767697</td>\n",
       "      <td>-79.189914</td>\n",
       "      <td>Pizza Place</td>\n",
       "    </tr>\n",
       "    <tr>\n",
       "      <th>4</th>\n",
       "      <td>Guildwood, Morningside, West Hill</td>\n",
       "      <td>43.763573</td>\n",
       "      <td>-79.188711</td>\n",
       "      <td>G &amp; G Electronics</td>\n",
       "      <td>43.765309</td>\n",
       "      <td>-79.191537</td>\n",
       "      <td>Electronics Store</td>\n",
       "    </tr>\n",
       "  </tbody>\n",
       "</table>\n",
       "</div>"
      ],
      "text/plain": [
       "                             Neighborhood  Neighborhood Latitude  \\\n",
       "0                          Rouge, Malvern              43.806686   \n",
       "1                          Rouge, Malvern              43.806686   \n",
       "2  Highland Creek, Rouge Hill, Port Union              43.784535   \n",
       "3       Guildwood, Morningside, West Hill              43.763573   \n",
       "4       Guildwood, Morningside, West Hill              43.763573   \n",
       "\n",
       "   Neighborhood Longitude                            Venue  Venue Latitude  \\\n",
       "0              -79.194353                          Wendy's       43.807448   \n",
       "1              -79.194353            Interprovincial Group       43.805630   \n",
       "2              -79.160497            Royal Canadian Legion       43.782533   \n",
       "3              -79.188711  Swiss Chalet Rotisserie & Grill       43.767697   \n",
       "4              -79.188711                G & G Electronics       43.765309   \n",
       "\n",
       "   Venue Longitude        Venue Category  \n",
       "0       -79.199056  Fast Food Restaurant  \n",
       "1       -79.200378            Print Shop  \n",
       "2       -79.163085                   Bar  \n",
       "3       -79.189914           Pizza Place  \n",
       "4       -79.191537     Electronics Store  "
      ]
     },
     "execution_count": 46,
     "metadata": {},
     "output_type": "execute_result"
    }
   ],
   "source": [
    "toronto_venues.head()"
   ]
  },
  {
   "cell_type": "markdown",
   "metadata": {},
   "source": [
    "#### As we would like to have our outlet near a Gym/Fitness Centers/Other Fitness related areas, we have changed the venue category of all the different types to Gym in achieve consistency in the data"
   ]
  },
  {
   "cell_type": "code",
   "execution_count": 47,
   "metadata": {},
   "outputs": [],
   "source": [
    "toronto_venues.replace(\"Gym / Fitness Center\", \"Gym\", inplace=True)\n",
    "toronto_venues.replace(\"College Gym\", \"Gym\", inplace=True)\n",
    "toronto_venues.replace(\"Climbing Gym\", \"Gym\", inplace=True)"
   ]
  },
  {
   "cell_type": "code",
   "execution_count": 48,
   "metadata": {},
   "outputs": [
    {
     "data": {
      "text/plain": [
       "50"
      ]
     },
     "execution_count": 48,
     "metadata": {},
     "output_type": "execute_result"
    }
   ],
   "source": [
    "toronto_venues['Venue Category'].str.count(\"Gym\").sum()"
   ]
  },
  {
   "cell_type": "code",
   "execution_count": 49,
   "metadata": {},
   "outputs": [
    {
     "data": {
      "text/plain": [
       "(2213, 7)"
      ]
     },
     "execution_count": 49,
     "metadata": {},
     "output_type": "execute_result"
    }
   ],
   "source": [
    "#Check size of resulting dataframe\n",
    "toronto_venues.shape"
   ]
  },
  {
   "cell_type": "code",
   "execution_count": 54,
   "metadata": {},
   "outputs": [
    {
     "data": {
      "text/html": [
       "<div>\n",
       "<style scoped>\n",
       "    .dataframe tbody tr th:only-of-type {\n",
       "        vertical-align: middle;\n",
       "    }\n",
       "\n",
       "    .dataframe tbody tr th {\n",
       "        vertical-align: top;\n",
       "    }\n",
       "\n",
       "    .dataframe thead th {\n",
       "        text-align: right;\n",
       "    }\n",
       "</style>\n",
       "<table border=\"1\" class=\"dataframe\">\n",
       "  <thead>\n",
       "    <tr style=\"text-align: right;\">\n",
       "      <th></th>\n",
       "      <th>Neighborhood</th>\n",
       "      <th>Neighborhood Latitude</th>\n",
       "      <th>Neighborhood Longitude</th>\n",
       "      <th>Venue</th>\n",
       "      <th>Venue Latitude</th>\n",
       "      <th>Venue Longitude</th>\n",
       "      <th>Venue Category</th>\n",
       "    </tr>\n",
       "  </thead>\n",
       "  <tbody>\n",
       "    <tr>\n",
       "      <th>0</th>\n",
       "      <td>Rouge, Malvern</td>\n",
       "      <td>43.806686</td>\n",
       "      <td>-79.194353</td>\n",
       "      <td>Wendy's</td>\n",
       "      <td>43.807448</td>\n",
       "      <td>-79.199056</td>\n",
       "      <td>Fast Food Restaurant</td>\n",
       "    </tr>\n",
       "    <tr>\n",
       "      <th>1</th>\n",
       "      <td>Rouge, Malvern</td>\n",
       "      <td>43.806686</td>\n",
       "      <td>-79.194353</td>\n",
       "      <td>Interprovincial Group</td>\n",
       "      <td>43.805630</td>\n",
       "      <td>-79.200378</td>\n",
       "      <td>Print Shop</td>\n",
       "    </tr>\n",
       "    <tr>\n",
       "      <th>2</th>\n",
       "      <td>Highland Creek, Rouge Hill, Port Union</td>\n",
       "      <td>43.784535</td>\n",
       "      <td>-79.160497</td>\n",
       "      <td>Royal Canadian Legion</td>\n",
       "      <td>43.782533</td>\n",
       "      <td>-79.163085</td>\n",
       "      <td>Bar</td>\n",
       "    </tr>\n",
       "    <tr>\n",
       "      <th>3</th>\n",
       "      <td>Guildwood, Morningside, West Hill</td>\n",
       "      <td>43.763573</td>\n",
       "      <td>-79.188711</td>\n",
       "      <td>Swiss Chalet Rotisserie &amp; Grill</td>\n",
       "      <td>43.767697</td>\n",
       "      <td>-79.189914</td>\n",
       "      <td>Pizza Place</td>\n",
       "    </tr>\n",
       "    <tr>\n",
       "      <th>4</th>\n",
       "      <td>Guildwood, Morningside, West Hill</td>\n",
       "      <td>43.763573</td>\n",
       "      <td>-79.188711</td>\n",
       "      <td>G &amp; G Electronics</td>\n",
       "      <td>43.765309</td>\n",
       "      <td>-79.191537</td>\n",
       "      <td>Electronics Store</td>\n",
       "    </tr>\n",
       "    <tr>\n",
       "      <th>...</th>\n",
       "      <td>...</td>\n",
       "      <td>...</td>\n",
       "      <td>...</td>\n",
       "      <td>...</td>\n",
       "      <td>...</td>\n",
       "      <td>...</td>\n",
       "      <td>...</td>\n",
       "    </tr>\n",
       "    <tr>\n",
       "      <th>2208</th>\n",
       "      <td>Albion Gardens, Beaumond Heights, Humbergate, ...</td>\n",
       "      <td>43.739416</td>\n",
       "      <td>-79.588437</td>\n",
       "      <td>McDonald's</td>\n",
       "      <td>43.741757</td>\n",
       "      <td>-79.584230</td>\n",
       "      <td>Fast Food Restaurant</td>\n",
       "    </tr>\n",
       "    <tr>\n",
       "      <th>2209</th>\n",
       "      <td>Albion Gardens, Beaumond Heights, Humbergate, ...</td>\n",
       "      <td>43.739416</td>\n",
       "      <td>-79.588437</td>\n",
       "      <td>Rogers Plus</td>\n",
       "      <td>43.741312</td>\n",
       "      <td>-79.585263</td>\n",
       "      <td>Video Store</td>\n",
       "    </tr>\n",
       "    <tr>\n",
       "      <th>2210</th>\n",
       "      <td>Albion Gardens, Beaumond Heights, Humbergate, ...</td>\n",
       "      <td>43.739416</td>\n",
       "      <td>-79.588437</td>\n",
       "      <td>LCBO</td>\n",
       "      <td>43.741508</td>\n",
       "      <td>-79.584501</td>\n",
       "      <td>Liquor Store</td>\n",
       "    </tr>\n",
       "    <tr>\n",
       "      <th>2211</th>\n",
       "      <td>Northwest</td>\n",
       "      <td>43.706748</td>\n",
       "      <td>-79.594054</td>\n",
       "      <td>Economy Rent A Car</td>\n",
       "      <td>43.708471</td>\n",
       "      <td>-79.589943</td>\n",
       "      <td>Rental Car Location</td>\n",
       "    </tr>\n",
       "    <tr>\n",
       "      <th>2212</th>\n",
       "      <td>Northwest</td>\n",
       "      <td>43.706748</td>\n",
       "      <td>-79.594054</td>\n",
       "      <td>Saand Rexdale</td>\n",
       "      <td>43.705072</td>\n",
       "      <td>-79.598725</td>\n",
       "      <td>Drugstore</td>\n",
       "    </tr>\n",
       "  </tbody>\n",
       "</table>\n",
       "<p>2213 rows × 7 columns</p>\n",
       "</div>"
      ],
      "text/plain": [
       "                                           Neighborhood  \\\n",
       "0                                        Rouge, Malvern   \n",
       "1                                        Rouge, Malvern   \n",
       "2                Highland Creek, Rouge Hill, Port Union   \n",
       "3                     Guildwood, Morningside, West Hill   \n",
       "4                     Guildwood, Morningside, West Hill   \n",
       "...                                                 ...   \n",
       "2208  Albion Gardens, Beaumond Heights, Humbergate, ...   \n",
       "2209  Albion Gardens, Beaumond Heights, Humbergate, ...   \n",
       "2210  Albion Gardens, Beaumond Heights, Humbergate, ...   \n",
       "2211                                          Northwest   \n",
       "2212                                          Northwest   \n",
       "\n",
       "      Neighborhood Latitude  Neighborhood Longitude  \\\n",
       "0                 43.806686              -79.194353   \n",
       "1                 43.806686              -79.194353   \n",
       "2                 43.784535              -79.160497   \n",
       "3                 43.763573              -79.188711   \n",
       "4                 43.763573              -79.188711   \n",
       "...                     ...                     ...   \n",
       "2208              43.739416              -79.588437   \n",
       "2209              43.739416              -79.588437   \n",
       "2210              43.739416              -79.588437   \n",
       "2211              43.706748              -79.594054   \n",
       "2212              43.706748              -79.594054   \n",
       "\n",
       "                                Venue  Venue Latitude  Venue Longitude  \\\n",
       "0                             Wendy's       43.807448       -79.199056   \n",
       "1               Interprovincial Group       43.805630       -79.200378   \n",
       "2               Royal Canadian Legion       43.782533       -79.163085   \n",
       "3     Swiss Chalet Rotisserie & Grill       43.767697       -79.189914   \n",
       "4                   G & G Electronics       43.765309       -79.191537   \n",
       "...                               ...             ...              ...   \n",
       "2208                       McDonald's       43.741757       -79.584230   \n",
       "2209                      Rogers Plus       43.741312       -79.585263   \n",
       "2210                             LCBO       43.741508       -79.584501   \n",
       "2211               Economy Rent A Car       43.708471       -79.589943   \n",
       "2212                    Saand Rexdale       43.705072       -79.598725   \n",
       "\n",
       "            Venue Category  \n",
       "0     Fast Food Restaurant  \n",
       "1               Print Shop  \n",
       "2                      Bar  \n",
       "3              Pizza Place  \n",
       "4        Electronics Store  \n",
       "...                    ...  \n",
       "2208  Fast Food Restaurant  \n",
       "2209           Video Store  \n",
       "2210          Liquor Store  \n",
       "2211   Rental Car Location  \n",
       "2212             Drugstore  \n",
       "\n",
       "[2213 rows x 7 columns]"
      ]
     },
     "execution_count": 54,
     "metadata": {},
     "output_type": "execute_result"
    }
   ],
   "source": [
    "toronto_venues"
   ]
  },
  {
   "cell_type": "code",
   "execution_count": 52,
   "metadata": {},
   "outputs": [],
   "source": [
    "#Number of venues per neighborhood\n",
    "toronto_venues.groupby('Neighborhood').count()"
   ]
  },
  {
   "cell_type": "code",
   "execution_count": 55,
   "metadata": {},
   "outputs": [
    {
     "name": "stdout",
     "output_type": "stream",
     "text": [
      "There are 267 uniques categories.\n"
     ]
    }
   ],
   "source": [
    "#Number of unique venue categories\n",
    "print('There are {} uniques categories.'.format(len(toronto_venues['Venue Category'].unique())))"
   ]
  },
  {
   "cell_type": "code",
   "execution_count": 458,
   "metadata": {},
   "outputs": [
    {
     "data": {
      "text/plain": [
       "array(['Fast Food Restaurant', 'Print Shop', 'Bar', 'Pizza Place',\n",
       "       'Electronics Store', 'Mexican Restaurant', 'Rental Car Location',\n",
       "       'Medical Center', 'Intersection', 'Breakfast Spot', 'Coffee Shop',\n",
       "       'Korean Restaurant', 'Hakka Restaurant', 'Caribbean Restaurant',\n",
       "       'Athletics & Sports', 'Thai Restaurant', 'Bank', 'Gas Station',\n",
       "       'Bakery', 'Lounge', 'Fried Chicken Joint', 'Playground',\n",
       "       'Department Store', 'Discount Store', 'Ice Cream Shop', 'Bus Line',\n",
       "       'Metro Station', 'Bus Station', 'Park', 'Soccer Field', 'Motel',\n",
       "       'American Restaurant', 'Café', 'General Entertainment',\n",
       "       'Skating Rink', 'College Stadium', 'Indian Restaurant',\n",
       "       'Chinese Restaurant', 'Pet Store', 'Vietnamese Restaurant',\n",
       "       'Light Rail Station', 'Brewery', 'Thrift / Vintage Store',\n",
       "       'Sandwich Place', 'Middle Eastern Restaurant', 'Shopping Mall',\n",
       "       'Smoke Shop', 'Auto Garage', 'Latin American Restaurant',\n",
       "       'Italian Restaurant', 'Noodle House', 'Pharmacy',\n",
       "       'Convenience Store', 'Grocery Store', 'Cosmetics Shop',\n",
       "       'Nail Salon', 'Golf Course', 'Pool', 'Mediterranean Restaurant',\n",
       "       'Dog Run', 'Toy / Game Store', 'Movie Theater', 'Tea Room',\n",
       "       'Salon / Barbershop', 'Burger Joint', 'Chocolate Shop',\n",
       "       'Juice Bar', 'Clothing Store', 'Theater', 'Liquor Store',\n",
       "       'Japanese Restaurant', 'Food Court', 'Sporting Goods Shop',\n",
       "       'Asian Restaurant', 'Wings Joint', 'Video Game Store',\n",
       "       'Burrito Place', \"Women's Store\", 'Deli / Bodega', 'Gift Shop',\n",
       "       'Boutique', 'Supplement Shop', 'Luggage Store', 'Jewelry Store',\n",
       "       'Greek Restaurant', 'Dessert Shop', 'Baseball Field', 'Cafeteria',\n",
       "       'Piano Bar', 'Ramen Restaurant', 'Steakhouse',\n",
       "       'Indonesian Restaurant', 'Plaza', 'Arts & Crafts Store',\n",
       "       'Restaurant', 'Sushi Restaurant', 'Bubble Tea Shop', 'Hotel',\n",
       "       'Butcher', 'Food & Drink Shop'], dtype=object)"
      ]
     },
     "execution_count": 458,
     "metadata": {},
     "output_type": "execute_result"
    }
   ],
   "source": [
    "#print out the list of categories\n",
    "toronto_venues['Venue Category'].unique()[:100]"
   ]
  },
  {
   "cell_type": "code",
   "execution_count": 459,
   "metadata": {},
   "outputs": [
    {
     "data": {
      "text/plain": [
       "False"
      ]
     },
     "execution_count": 459,
     "metadata": {},
     "output_type": "execute_result"
    }
   ],
   "source": [
    "# check if the results contain \"Gym/Fitness Center or College Gym or Climbing Gym\"\n",
    "(\"Gym / Fitness Center\" or \"College Gym\" or \"Climbing Gym\") in toronto_venues['Venue Category'].unique()"
   ]
  },
  {
   "cell_type": "code",
   "execution_count": 460,
   "metadata": {},
   "outputs": [
    {
     "data": {
      "text/plain": [
       "True"
      ]
     },
     "execution_count": 460,
     "metadata": {},
     "output_type": "execute_result"
    }
   ],
   "source": [
    "# check if the results contain \"Gym\"\n",
    "\"Gym\" in toronto_venues['Venue Category'].unique()"
   ]
  },
  {
   "cell_type": "markdown",
   "metadata": {},
   "source": [
    "#### Analyze Each Neighborhood"
   ]
  },
  {
   "cell_type": "code",
   "execution_count": 56,
   "metadata": {},
   "outputs": [
    {
     "name": "stdout",
     "output_type": "stream",
     "text": [
      "(2213, 268)\n"
     ]
    },
    {
     "data": {
      "text/html": [
       "<div>\n",
       "<style scoped>\n",
       "    .dataframe tbody tr th:only-of-type {\n",
       "        vertical-align: middle;\n",
       "    }\n",
       "\n",
       "    .dataframe tbody tr th {\n",
       "        vertical-align: top;\n",
       "    }\n",
       "\n",
       "    .dataframe thead th {\n",
       "        text-align: right;\n",
       "    }\n",
       "</style>\n",
       "<table border=\"1\" class=\"dataframe\">\n",
       "  <thead>\n",
       "    <tr style=\"text-align: right;\">\n",
       "      <th></th>\n",
       "      <th>Neighborhoods</th>\n",
       "      <th>Accessories Store</th>\n",
       "      <th>Afghan Restaurant</th>\n",
       "      <th>Airport</th>\n",
       "      <th>Airport Food Court</th>\n",
       "      <th>Airport Gate</th>\n",
       "      <th>Airport Lounge</th>\n",
       "      <th>Airport Service</th>\n",
       "      <th>Airport Terminal</th>\n",
       "      <th>American Restaurant</th>\n",
       "      <th>...</th>\n",
       "      <th>Vegetarian / Vegan Restaurant</th>\n",
       "      <th>Video Game Store</th>\n",
       "      <th>Video Store</th>\n",
       "      <th>Vietnamese Restaurant</th>\n",
       "      <th>Warehouse Store</th>\n",
       "      <th>Wine Bar</th>\n",
       "      <th>Wine Shop</th>\n",
       "      <th>Wings Joint</th>\n",
       "      <th>Women's Store</th>\n",
       "      <th>Yoga Studio</th>\n",
       "    </tr>\n",
       "  </thead>\n",
       "  <tbody>\n",
       "    <tr>\n",
       "      <th>0</th>\n",
       "      <td>Rouge, Malvern</td>\n",
       "      <td>0</td>\n",
       "      <td>0</td>\n",
       "      <td>0</td>\n",
       "      <td>0</td>\n",
       "      <td>0</td>\n",
       "      <td>0</td>\n",
       "      <td>0</td>\n",
       "      <td>0</td>\n",
       "      <td>0</td>\n",
       "      <td>...</td>\n",
       "      <td>0</td>\n",
       "      <td>0</td>\n",
       "      <td>0</td>\n",
       "      <td>0</td>\n",
       "      <td>0</td>\n",
       "      <td>0</td>\n",
       "      <td>0</td>\n",
       "      <td>0</td>\n",
       "      <td>0</td>\n",
       "      <td>0</td>\n",
       "    </tr>\n",
       "    <tr>\n",
       "      <th>1</th>\n",
       "      <td>Rouge, Malvern</td>\n",
       "      <td>0</td>\n",
       "      <td>0</td>\n",
       "      <td>0</td>\n",
       "      <td>0</td>\n",
       "      <td>0</td>\n",
       "      <td>0</td>\n",
       "      <td>0</td>\n",
       "      <td>0</td>\n",
       "      <td>0</td>\n",
       "      <td>...</td>\n",
       "      <td>0</td>\n",
       "      <td>0</td>\n",
       "      <td>0</td>\n",
       "      <td>0</td>\n",
       "      <td>0</td>\n",
       "      <td>0</td>\n",
       "      <td>0</td>\n",
       "      <td>0</td>\n",
       "      <td>0</td>\n",
       "      <td>0</td>\n",
       "    </tr>\n",
       "    <tr>\n",
       "      <th>2</th>\n",
       "      <td>Highland Creek, Rouge Hill, Port Union</td>\n",
       "      <td>0</td>\n",
       "      <td>0</td>\n",
       "      <td>0</td>\n",
       "      <td>0</td>\n",
       "      <td>0</td>\n",
       "      <td>0</td>\n",
       "      <td>0</td>\n",
       "      <td>0</td>\n",
       "      <td>0</td>\n",
       "      <td>...</td>\n",
       "      <td>0</td>\n",
       "      <td>0</td>\n",
       "      <td>0</td>\n",
       "      <td>0</td>\n",
       "      <td>0</td>\n",
       "      <td>0</td>\n",
       "      <td>0</td>\n",
       "      <td>0</td>\n",
       "      <td>0</td>\n",
       "      <td>0</td>\n",
       "    </tr>\n",
       "    <tr>\n",
       "      <th>3</th>\n",
       "      <td>Guildwood, Morningside, West Hill</td>\n",
       "      <td>0</td>\n",
       "      <td>0</td>\n",
       "      <td>0</td>\n",
       "      <td>0</td>\n",
       "      <td>0</td>\n",
       "      <td>0</td>\n",
       "      <td>0</td>\n",
       "      <td>0</td>\n",
       "      <td>0</td>\n",
       "      <td>...</td>\n",
       "      <td>0</td>\n",
       "      <td>0</td>\n",
       "      <td>0</td>\n",
       "      <td>0</td>\n",
       "      <td>0</td>\n",
       "      <td>0</td>\n",
       "      <td>0</td>\n",
       "      <td>0</td>\n",
       "      <td>0</td>\n",
       "      <td>0</td>\n",
       "    </tr>\n",
       "    <tr>\n",
       "      <th>4</th>\n",
       "      <td>Guildwood, Morningside, West Hill</td>\n",
       "      <td>0</td>\n",
       "      <td>0</td>\n",
       "      <td>0</td>\n",
       "      <td>0</td>\n",
       "      <td>0</td>\n",
       "      <td>0</td>\n",
       "      <td>0</td>\n",
       "      <td>0</td>\n",
       "      <td>0</td>\n",
       "      <td>...</td>\n",
       "      <td>0</td>\n",
       "      <td>0</td>\n",
       "      <td>0</td>\n",
       "      <td>0</td>\n",
       "      <td>0</td>\n",
       "      <td>0</td>\n",
       "      <td>0</td>\n",
       "      <td>0</td>\n",
       "      <td>0</td>\n",
       "      <td>0</td>\n",
       "    </tr>\n",
       "  </tbody>\n",
       "</table>\n",
       "<p>5 rows × 268 columns</p>\n",
       "</div>"
      ],
      "text/plain": [
       "                            Neighborhoods  Accessories Store  \\\n",
       "0                          Rouge, Malvern                  0   \n",
       "1                          Rouge, Malvern                  0   \n",
       "2  Highland Creek, Rouge Hill, Port Union                  0   \n",
       "3       Guildwood, Morningside, West Hill                  0   \n",
       "4       Guildwood, Morningside, West Hill                  0   \n",
       "\n",
       "   Afghan Restaurant  Airport  Airport Food Court  Airport Gate  \\\n",
       "0                  0        0                   0             0   \n",
       "1                  0        0                   0             0   \n",
       "2                  0        0                   0             0   \n",
       "3                  0        0                   0             0   \n",
       "4                  0        0                   0             0   \n",
       "\n",
       "   Airport Lounge  Airport Service  Airport Terminal  American Restaurant  \\\n",
       "0               0                0                 0                    0   \n",
       "1               0                0                 0                    0   \n",
       "2               0                0                 0                    0   \n",
       "3               0                0                 0                    0   \n",
       "4               0                0                 0                    0   \n",
       "\n",
       "   ...  Vegetarian / Vegan Restaurant  Video Game Store  Video Store  \\\n",
       "0  ...                              0                 0            0   \n",
       "1  ...                              0                 0            0   \n",
       "2  ...                              0                 0            0   \n",
       "3  ...                              0                 0            0   \n",
       "4  ...                              0                 0            0   \n",
       "\n",
       "   Vietnamese Restaurant  Warehouse Store  Wine Bar  Wine Shop  Wings Joint  \\\n",
       "0                      0                0         0          0            0   \n",
       "1                      0                0         0          0            0   \n",
       "2                      0                0         0          0            0   \n",
       "3                      0                0         0          0            0   \n",
       "4                      0                0         0          0            0   \n",
       "\n",
       "   Women's Store  Yoga Studio  \n",
       "0              0            0  \n",
       "1              0            0  \n",
       "2              0            0  \n",
       "3              0            0  \n",
       "4              0            0  \n",
       "\n",
       "[5 rows x 268 columns]"
      ]
     },
     "execution_count": 56,
     "metadata": {},
     "output_type": "execute_result"
    }
   ],
   "source": [
    "# one hot encoding\n",
    "to_onehot = pd.get_dummies(toronto_venues[['Venue Category']], prefix=\"\", prefix_sep=\"\")\n",
    "\n",
    "# add neighborhood column back to dataframe\n",
    "to_onehot['Neighborhoods'] = toronto_venues['Neighborhood'] \n",
    "\n",
    "# move neighborhood column to the first column\n",
    "fixed_columns = [to_onehot.columns[-1]] + list(to_onehot.columns[:-1])\n",
    "to_onehot = to_onehot[fixed_columns]\n",
    "\n",
    "print(to_onehot.shape)\n",
    "to_onehot.head()"
   ]
  },
  {
   "cell_type": "code",
   "execution_count": 60,
   "metadata": {},
   "outputs": [
    {
     "data": {
      "text/plain": [
       "50"
      ]
     },
     "execution_count": 60,
     "metadata": {},
     "output_type": "execute_result"
    }
   ],
   "source": [
    "len(to_onehot[to_onehot[\"Gym\"] > 0])"
   ]
  },
  {
   "cell_type": "markdown",
   "metadata": {},
   "source": [
    "#### Grouping the  rows by neighborhood, taking the mean of the frequency of occurrence of each category"
   ]
  },
  {
   "cell_type": "code",
   "execution_count": 61,
   "metadata": {},
   "outputs": [
    {
     "name": "stdout",
     "output_type": "stream",
     "text": [
      "(100, 268)\n"
     ]
    },
    {
     "data": {
      "text/html": [
       "<div>\n",
       "<style scoped>\n",
       "    .dataframe tbody tr th:only-of-type {\n",
       "        vertical-align: middle;\n",
       "    }\n",
       "\n",
       "    .dataframe tbody tr th {\n",
       "        vertical-align: top;\n",
       "    }\n",
       "\n",
       "    .dataframe thead th {\n",
       "        text-align: right;\n",
       "    }\n",
       "</style>\n",
       "<table border=\"1\" class=\"dataframe\">\n",
       "  <thead>\n",
       "    <tr style=\"text-align: right;\">\n",
       "      <th></th>\n",
       "      <th>Neighborhoods</th>\n",
       "      <th>Accessories Store</th>\n",
       "      <th>Afghan Restaurant</th>\n",
       "      <th>Airport</th>\n",
       "      <th>Airport Food Court</th>\n",
       "      <th>Airport Gate</th>\n",
       "      <th>Airport Lounge</th>\n",
       "      <th>Airport Service</th>\n",
       "      <th>Airport Terminal</th>\n",
       "      <th>American Restaurant</th>\n",
       "      <th>...</th>\n",
       "      <th>Vegetarian / Vegan Restaurant</th>\n",
       "      <th>Video Game Store</th>\n",
       "      <th>Video Store</th>\n",
       "      <th>Vietnamese Restaurant</th>\n",
       "      <th>Warehouse Store</th>\n",
       "      <th>Wine Bar</th>\n",
       "      <th>Wine Shop</th>\n",
       "      <th>Wings Joint</th>\n",
       "      <th>Women's Store</th>\n",
       "      <th>Yoga Studio</th>\n",
       "    </tr>\n",
       "  </thead>\n",
       "  <tbody>\n",
       "    <tr>\n",
       "      <th>0</th>\n",
       "      <td>Adelaide, King, Richmond</td>\n",
       "      <td>0.0</td>\n",
       "      <td>0.0</td>\n",
       "      <td>0.0</td>\n",
       "      <td>0.0</td>\n",
       "      <td>0.0</td>\n",
       "      <td>0.0</td>\n",
       "      <td>0.0</td>\n",
       "      <td>0.0</td>\n",
       "      <td>0.02</td>\n",
       "      <td>...</td>\n",
       "      <td>0.02</td>\n",
       "      <td>0.0</td>\n",
       "      <td>0.000000</td>\n",
       "      <td>0.0</td>\n",
       "      <td>0.0</td>\n",
       "      <td>0.01</td>\n",
       "      <td>0.0</td>\n",
       "      <td>0.0</td>\n",
       "      <td>0.01</td>\n",
       "      <td>0.0</td>\n",
       "    </tr>\n",
       "    <tr>\n",
       "      <th>1</th>\n",
       "      <td>Agincourt</td>\n",
       "      <td>0.0</td>\n",
       "      <td>0.0</td>\n",
       "      <td>0.0</td>\n",
       "      <td>0.0</td>\n",
       "      <td>0.0</td>\n",
       "      <td>0.0</td>\n",
       "      <td>0.0</td>\n",
       "      <td>0.0</td>\n",
       "      <td>0.00</td>\n",
       "      <td>...</td>\n",
       "      <td>0.00</td>\n",
       "      <td>0.0</td>\n",
       "      <td>0.000000</td>\n",
       "      <td>0.0</td>\n",
       "      <td>0.0</td>\n",
       "      <td>0.00</td>\n",
       "      <td>0.0</td>\n",
       "      <td>0.0</td>\n",
       "      <td>0.00</td>\n",
       "      <td>0.0</td>\n",
       "    </tr>\n",
       "    <tr>\n",
       "      <th>2</th>\n",
       "      <td>Agincourt North, L'Amoreaux East, Milliken, St...</td>\n",
       "      <td>0.0</td>\n",
       "      <td>0.0</td>\n",
       "      <td>0.0</td>\n",
       "      <td>0.0</td>\n",
       "      <td>0.0</td>\n",
       "      <td>0.0</td>\n",
       "      <td>0.0</td>\n",
       "      <td>0.0</td>\n",
       "      <td>0.00</td>\n",
       "      <td>...</td>\n",
       "      <td>0.00</td>\n",
       "      <td>0.0</td>\n",
       "      <td>0.000000</td>\n",
       "      <td>0.0</td>\n",
       "      <td>0.0</td>\n",
       "      <td>0.00</td>\n",
       "      <td>0.0</td>\n",
       "      <td>0.0</td>\n",
       "      <td>0.00</td>\n",
       "      <td>0.0</td>\n",
       "    </tr>\n",
       "    <tr>\n",
       "      <th>3</th>\n",
       "      <td>Albion Gardens, Beaumond Heights, Humbergate, ...</td>\n",
       "      <td>0.0</td>\n",
       "      <td>0.0</td>\n",
       "      <td>0.0</td>\n",
       "      <td>0.0</td>\n",
       "      <td>0.0</td>\n",
       "      <td>0.0</td>\n",
       "      <td>0.0</td>\n",
       "      <td>0.0</td>\n",
       "      <td>0.00</td>\n",
       "      <td>...</td>\n",
       "      <td>0.00</td>\n",
       "      <td>0.0</td>\n",
       "      <td>0.090909</td>\n",
       "      <td>0.0</td>\n",
       "      <td>0.0</td>\n",
       "      <td>0.00</td>\n",
       "      <td>0.0</td>\n",
       "      <td>0.0</td>\n",
       "      <td>0.00</td>\n",
       "      <td>0.0</td>\n",
       "    </tr>\n",
       "    <tr>\n",
       "      <th>4</th>\n",
       "      <td>Alderwood, Long Branch</td>\n",
       "      <td>0.0</td>\n",
       "      <td>0.0</td>\n",
       "      <td>0.0</td>\n",
       "      <td>0.0</td>\n",
       "      <td>0.0</td>\n",
       "      <td>0.0</td>\n",
       "      <td>0.0</td>\n",
       "      <td>0.0</td>\n",
       "      <td>0.00</td>\n",
       "      <td>...</td>\n",
       "      <td>0.00</td>\n",
       "      <td>0.0</td>\n",
       "      <td>0.000000</td>\n",
       "      <td>0.0</td>\n",
       "      <td>0.0</td>\n",
       "      <td>0.00</td>\n",
       "      <td>0.0</td>\n",
       "      <td>0.0</td>\n",
       "      <td>0.00</td>\n",
       "      <td>0.0</td>\n",
       "    </tr>\n",
       "    <tr>\n",
       "      <th>...</th>\n",
       "      <td>...</td>\n",
       "      <td>...</td>\n",
       "      <td>...</td>\n",
       "      <td>...</td>\n",
       "      <td>...</td>\n",
       "      <td>...</td>\n",
       "      <td>...</td>\n",
       "      <td>...</td>\n",
       "      <td>...</td>\n",
       "      <td>...</td>\n",
       "      <td>...</td>\n",
       "      <td>...</td>\n",
       "      <td>...</td>\n",
       "      <td>...</td>\n",
       "      <td>...</td>\n",
       "      <td>...</td>\n",
       "      <td>...</td>\n",
       "      <td>...</td>\n",
       "      <td>...</td>\n",
       "      <td>...</td>\n",
       "      <td>...</td>\n",
       "    </tr>\n",
       "    <tr>\n",
       "      <th>95</th>\n",
       "      <td>Willowdale West</td>\n",
       "      <td>0.0</td>\n",
       "      <td>0.0</td>\n",
       "      <td>0.0</td>\n",
       "      <td>0.0</td>\n",
       "      <td>0.0</td>\n",
       "      <td>0.0</td>\n",
       "      <td>0.0</td>\n",
       "      <td>0.0</td>\n",
       "      <td>0.00</td>\n",
       "      <td>...</td>\n",
       "      <td>0.00</td>\n",
       "      <td>0.0</td>\n",
       "      <td>0.000000</td>\n",
       "      <td>0.0</td>\n",
       "      <td>0.0</td>\n",
       "      <td>0.00</td>\n",
       "      <td>0.0</td>\n",
       "      <td>0.0</td>\n",
       "      <td>0.00</td>\n",
       "      <td>0.0</td>\n",
       "    </tr>\n",
       "    <tr>\n",
       "      <th>96</th>\n",
       "      <td>Woburn</td>\n",
       "      <td>0.0</td>\n",
       "      <td>0.0</td>\n",
       "      <td>0.0</td>\n",
       "      <td>0.0</td>\n",
       "      <td>0.0</td>\n",
       "      <td>0.0</td>\n",
       "      <td>0.0</td>\n",
       "      <td>0.0</td>\n",
       "      <td>0.00</td>\n",
       "      <td>...</td>\n",
       "      <td>0.00</td>\n",
       "      <td>0.0</td>\n",
       "      <td>0.000000</td>\n",
       "      <td>0.0</td>\n",
       "      <td>0.0</td>\n",
       "      <td>0.00</td>\n",
       "      <td>0.0</td>\n",
       "      <td>0.0</td>\n",
       "      <td>0.00</td>\n",
       "      <td>0.0</td>\n",
       "    </tr>\n",
       "    <tr>\n",
       "      <th>97</th>\n",
       "      <td>Woodbine Gardens, Parkview Hill</td>\n",
       "      <td>0.0</td>\n",
       "      <td>0.0</td>\n",
       "      <td>0.0</td>\n",
       "      <td>0.0</td>\n",
       "      <td>0.0</td>\n",
       "      <td>0.0</td>\n",
       "      <td>0.0</td>\n",
       "      <td>0.0</td>\n",
       "      <td>0.00</td>\n",
       "      <td>...</td>\n",
       "      <td>0.00</td>\n",
       "      <td>0.0</td>\n",
       "      <td>0.000000</td>\n",
       "      <td>0.0</td>\n",
       "      <td>0.0</td>\n",
       "      <td>0.00</td>\n",
       "      <td>0.0</td>\n",
       "      <td>0.0</td>\n",
       "      <td>0.00</td>\n",
       "      <td>0.0</td>\n",
       "    </tr>\n",
       "    <tr>\n",
       "      <th>98</th>\n",
       "      <td>Woodbine Heights</td>\n",
       "      <td>0.0</td>\n",
       "      <td>0.0</td>\n",
       "      <td>0.0</td>\n",
       "      <td>0.0</td>\n",
       "      <td>0.0</td>\n",
       "      <td>0.0</td>\n",
       "      <td>0.0</td>\n",
       "      <td>0.0</td>\n",
       "      <td>0.00</td>\n",
       "      <td>...</td>\n",
       "      <td>0.00</td>\n",
       "      <td>0.0</td>\n",
       "      <td>0.111111</td>\n",
       "      <td>0.0</td>\n",
       "      <td>0.0</td>\n",
       "      <td>0.00</td>\n",
       "      <td>0.0</td>\n",
       "      <td>0.0</td>\n",
       "      <td>0.00</td>\n",
       "      <td>0.0</td>\n",
       "    </tr>\n",
       "    <tr>\n",
       "      <th>99</th>\n",
       "      <td>York Mills West</td>\n",
       "      <td>0.0</td>\n",
       "      <td>0.0</td>\n",
       "      <td>0.0</td>\n",
       "      <td>0.0</td>\n",
       "      <td>0.0</td>\n",
       "      <td>0.0</td>\n",
       "      <td>0.0</td>\n",
       "      <td>0.0</td>\n",
       "      <td>0.00</td>\n",
       "      <td>...</td>\n",
       "      <td>0.00</td>\n",
       "      <td>0.0</td>\n",
       "      <td>0.000000</td>\n",
       "      <td>0.0</td>\n",
       "      <td>0.0</td>\n",
       "      <td>0.00</td>\n",
       "      <td>0.0</td>\n",
       "      <td>0.0</td>\n",
       "      <td>0.00</td>\n",
       "      <td>0.0</td>\n",
       "    </tr>\n",
       "  </tbody>\n",
       "</table>\n",
       "<p>100 rows × 268 columns</p>\n",
       "</div>"
      ],
      "text/plain": [
       "                                        Neighborhoods  Accessories Store  \\\n",
       "0                            Adelaide, King, Richmond                0.0   \n",
       "1                                           Agincourt                0.0   \n",
       "2   Agincourt North, L'Amoreaux East, Milliken, St...                0.0   \n",
       "3   Albion Gardens, Beaumond Heights, Humbergate, ...                0.0   \n",
       "4                              Alderwood, Long Branch                0.0   \n",
       "..                                                ...                ...   \n",
       "95                                    Willowdale West                0.0   \n",
       "96                                             Woburn                0.0   \n",
       "97                    Woodbine Gardens, Parkview Hill                0.0   \n",
       "98                                   Woodbine Heights                0.0   \n",
       "99                                    York Mills West                0.0   \n",
       "\n",
       "    Afghan Restaurant  Airport  Airport Food Court  Airport Gate  \\\n",
       "0                 0.0      0.0                 0.0           0.0   \n",
       "1                 0.0      0.0                 0.0           0.0   \n",
       "2                 0.0      0.0                 0.0           0.0   \n",
       "3                 0.0      0.0                 0.0           0.0   \n",
       "4                 0.0      0.0                 0.0           0.0   \n",
       "..                ...      ...                 ...           ...   \n",
       "95                0.0      0.0                 0.0           0.0   \n",
       "96                0.0      0.0                 0.0           0.0   \n",
       "97                0.0      0.0                 0.0           0.0   \n",
       "98                0.0      0.0                 0.0           0.0   \n",
       "99                0.0      0.0                 0.0           0.0   \n",
       "\n",
       "    Airport Lounge  Airport Service  Airport Terminal  American Restaurant  \\\n",
       "0              0.0              0.0               0.0                 0.02   \n",
       "1              0.0              0.0               0.0                 0.00   \n",
       "2              0.0              0.0               0.0                 0.00   \n",
       "3              0.0              0.0               0.0                 0.00   \n",
       "4              0.0              0.0               0.0                 0.00   \n",
       "..             ...              ...               ...                  ...   \n",
       "95             0.0              0.0               0.0                 0.00   \n",
       "96             0.0              0.0               0.0                 0.00   \n",
       "97             0.0              0.0               0.0                 0.00   \n",
       "98             0.0              0.0               0.0                 0.00   \n",
       "99             0.0              0.0               0.0                 0.00   \n",
       "\n",
       "    ...  Vegetarian / Vegan Restaurant  Video Game Store  Video Store  \\\n",
       "0   ...                           0.02               0.0     0.000000   \n",
       "1   ...                           0.00               0.0     0.000000   \n",
       "2   ...                           0.00               0.0     0.000000   \n",
       "3   ...                           0.00               0.0     0.090909   \n",
       "4   ...                           0.00               0.0     0.000000   \n",
       "..  ...                            ...               ...          ...   \n",
       "95  ...                           0.00               0.0     0.000000   \n",
       "96  ...                           0.00               0.0     0.000000   \n",
       "97  ...                           0.00               0.0     0.000000   \n",
       "98  ...                           0.00               0.0     0.111111   \n",
       "99  ...                           0.00               0.0     0.000000   \n",
       "\n",
       "    Vietnamese Restaurant  Warehouse Store  Wine Bar  Wine Shop  Wings Joint  \\\n",
       "0                     0.0              0.0      0.01        0.0          0.0   \n",
       "1                     0.0              0.0      0.00        0.0          0.0   \n",
       "2                     0.0              0.0      0.00        0.0          0.0   \n",
       "3                     0.0              0.0      0.00        0.0          0.0   \n",
       "4                     0.0              0.0      0.00        0.0          0.0   \n",
       "..                    ...              ...       ...        ...          ...   \n",
       "95                    0.0              0.0      0.00        0.0          0.0   \n",
       "96                    0.0              0.0      0.00        0.0          0.0   \n",
       "97                    0.0              0.0      0.00        0.0          0.0   \n",
       "98                    0.0              0.0      0.00        0.0          0.0   \n",
       "99                    0.0              0.0      0.00        0.0          0.0   \n",
       "\n",
       "    Women's Store  Yoga Studio  \n",
       "0            0.01          0.0  \n",
       "1            0.00          0.0  \n",
       "2            0.00          0.0  \n",
       "3            0.00          0.0  \n",
       "4            0.00          0.0  \n",
       "..            ...          ...  \n",
       "95           0.00          0.0  \n",
       "96           0.00          0.0  \n",
       "97           0.00          0.0  \n",
       "98           0.00          0.0  \n",
       "99           0.00          0.0  \n",
       "\n",
       "[100 rows x 268 columns]"
      ]
     },
     "execution_count": 61,
     "metadata": {},
     "output_type": "execute_result"
    }
   ],
   "source": [
    "to_grouped = to_onehot.groupby([\"Neighborhoods\"]).mean().reset_index()\n",
    "\n",
    "print(to_grouped.shape)\n",
    "to_grouped"
   ]
  },
  {
   "cell_type": "code",
   "execution_count": 464,
   "metadata": {},
   "outputs": [
    {
     "data": {
      "text/plain": [
       "31"
      ]
     },
     "execution_count": 464,
     "metadata": {},
     "output_type": "execute_result"
    }
   ],
   "source": [
    "len(to_grouped[to_grouped[\"Gym\"] > 0])"
   ]
  },
  {
   "cell_type": "markdown",
   "metadata": {},
   "source": [
    "#### Creating a new dataframe to record the mean occurence of Gym in each neighborhood"
   ]
  },
  {
   "cell_type": "code",
   "execution_count": 62,
   "metadata": {},
   "outputs": [],
   "source": [
    "to_fitness = to_grouped[[\"Neighborhoods\",\"Gym\"]]"
   ]
  },
  {
   "cell_type": "code",
   "execution_count": 63,
   "metadata": {},
   "outputs": [
    {
     "data": {
      "text/html": [
       "<div>\n",
       "<style scoped>\n",
       "    .dataframe tbody tr th:only-of-type {\n",
       "        vertical-align: middle;\n",
       "    }\n",
       "\n",
       "    .dataframe tbody tr th {\n",
       "        vertical-align: top;\n",
       "    }\n",
       "\n",
       "    .dataframe thead th {\n",
       "        text-align: right;\n",
       "    }\n",
       "</style>\n",
       "<table border=\"1\" class=\"dataframe\">\n",
       "  <thead>\n",
       "    <tr style=\"text-align: right;\">\n",
       "      <th></th>\n",
       "      <th>Neighborhoods</th>\n",
       "      <th>Gym</th>\n",
       "    </tr>\n",
       "  </thead>\n",
       "  <tbody>\n",
       "    <tr>\n",
       "      <th>0</th>\n",
       "      <td>Adelaide, King, Richmond</td>\n",
       "      <td>0.030000</td>\n",
       "    </tr>\n",
       "    <tr>\n",
       "      <th>1</th>\n",
       "      <td>Agincourt</td>\n",
       "      <td>0.000000</td>\n",
       "    </tr>\n",
       "    <tr>\n",
       "      <th>2</th>\n",
       "      <td>Agincourt North, L'Amoreaux East, Milliken, St...</td>\n",
       "      <td>0.000000</td>\n",
       "    </tr>\n",
       "    <tr>\n",
       "      <th>3</th>\n",
       "      <td>Albion Gardens, Beaumond Heights, Humbergate, ...</td>\n",
       "      <td>0.000000</td>\n",
       "    </tr>\n",
       "    <tr>\n",
       "      <th>4</th>\n",
       "      <td>Alderwood, Long Branch</td>\n",
       "      <td>0.111111</td>\n",
       "    </tr>\n",
       "    <tr>\n",
       "      <th>...</th>\n",
       "      <td>...</td>\n",
       "      <td>...</td>\n",
       "    </tr>\n",
       "    <tr>\n",
       "      <th>95</th>\n",
       "      <td>Willowdale West</td>\n",
       "      <td>0.000000</td>\n",
       "    </tr>\n",
       "    <tr>\n",
       "      <th>96</th>\n",
       "      <td>Woburn</td>\n",
       "      <td>0.000000</td>\n",
       "    </tr>\n",
       "    <tr>\n",
       "      <th>97</th>\n",
       "      <td>Woodbine Gardens, Parkview Hill</td>\n",
       "      <td>0.076923</td>\n",
       "    </tr>\n",
       "    <tr>\n",
       "      <th>98</th>\n",
       "      <td>Woodbine Heights</td>\n",
       "      <td>0.000000</td>\n",
       "    </tr>\n",
       "    <tr>\n",
       "      <th>99</th>\n",
       "      <td>York Mills West</td>\n",
       "      <td>0.000000</td>\n",
       "    </tr>\n",
       "  </tbody>\n",
       "</table>\n",
       "<p>100 rows × 2 columns</p>\n",
       "</div>"
      ],
      "text/plain": [
       "                                        Neighborhoods       Gym\n",
       "0                            Adelaide, King, Richmond  0.030000\n",
       "1                                           Agincourt  0.000000\n",
       "2   Agincourt North, L'Amoreaux East, Milliken, St...  0.000000\n",
       "3   Albion Gardens, Beaumond Heights, Humbergate, ...  0.000000\n",
       "4                              Alderwood, Long Branch  0.111111\n",
       "..                                                ...       ...\n",
       "95                                    Willowdale West  0.000000\n",
       "96                                             Woburn  0.000000\n",
       "97                    Woodbine Gardens, Parkview Hill  0.076923\n",
       "98                                   Woodbine Heights  0.000000\n",
       "99                                    York Mills West  0.000000\n",
       "\n",
       "[100 rows x 2 columns]"
      ]
     },
     "execution_count": 63,
     "metadata": {},
     "output_type": "execute_result"
    }
   ],
   "source": [
    "to_fitness"
   ]
  },
  {
   "cell_type": "markdown",
   "metadata": {},
   "source": [
    "## Methodology <a name=\"methodology\"></a>"
   ]
  },
  {
   "cell_type": "markdown",
   "metadata": {},
   "source": [
    "In this project, we will direct our efforts on detecting areas of Toronto that have high Gym/Fitness Center density.\n",
    "\n",
    "In first step we have collected the required data: location of every neighborhood of Toronto, Canada. We have also identified the different categories of venues.(according to Foursquare categorization).\n",
    "\n",
    "Second step in our analysis is to clean the data as there are different types of gyms/fitness centers in Toronto. We need to perform data wrangling to ensure consistency in data. Post that we will perform one-hot encoding on the data set to convert the categorical data (venue category) to numerical form. This will help us in calculating the mean of occurrence of Gyms/Fitness Centers in every Neighborhood. \n",
    "\n",
    "In third and final step we will perform the cluster analysis on the basis of occurrence to identify the most suitable areas for opening the first outlet of *EAT-TO-GET-FIT*. We will present the map of all such locations and create clusters (using k-means clustering) to identify general zones / neighborhoods / addresses which should be a starting point for final 'street level' exploration and search for optimal venue location."
   ]
  },
  {
   "cell_type": "markdown",
   "metadata": {},
   "source": [
    "### Cluster Neighborhoods"
   ]
  },
  {
   "cell_type": "markdown",
   "metadata": {},
   "source": [
    "#### Running k-means to cluster the neighborhoods in Toronto into 3 clusters"
   ]
  },
  {
   "cell_type": "code",
   "execution_count": 87,
   "metadata": {},
   "outputs": [
    {
     "data": {
      "text/plain": [
       "array([1, 1, 1, 1, 0, 1, 1, 1, 1, 1], dtype=int32)"
      ]
     },
     "execution_count": 87,
     "metadata": {},
     "output_type": "execute_result"
    }
   ],
   "source": [
    "# set number of clusters\n",
    "toclusters = 3\n",
    "\n",
    "to_clustering = to_fitness.drop('Neighborhoods', 1)\n",
    "\n",
    "# run k-means clustering\n",
    "kmeans = KMeans(n_clusters=toclusters, random_state=0).fit(to_clustering)\n",
    "\n",
    "# check cluster labels generated for each row in the dataframe\n",
    "kmeans.labels_[0:10]"
   ]
  },
  {
   "cell_type": "code",
   "execution_count": 88,
   "metadata": {},
   "outputs": [],
   "source": [
    "# create a new dataframe that includes the cluster as well as the neighborhoods.\n",
    "to_merged = to_fitness.copy()\n",
    "\n",
    "# add clustering labels\n",
    "to_merged[\"Cluster Labels\"] = kmeans.labels_"
   ]
  },
  {
   "cell_type": "code",
   "execution_count": 89,
   "metadata": {},
   "outputs": [
    {
     "data": {
      "text/html": [
       "<div>\n",
       "<style scoped>\n",
       "    .dataframe tbody tr th:only-of-type {\n",
       "        vertical-align: middle;\n",
       "    }\n",
       "\n",
       "    .dataframe tbody tr th {\n",
       "        vertical-align: top;\n",
       "    }\n",
       "\n",
       "    .dataframe thead th {\n",
       "        text-align: right;\n",
       "    }\n",
       "</style>\n",
       "<table border=\"1\" class=\"dataframe\">\n",
       "  <thead>\n",
       "    <tr style=\"text-align: right;\">\n",
       "      <th></th>\n",
       "      <th>Neighborhood</th>\n",
       "      <th>Gym</th>\n",
       "      <th>Cluster Labels</th>\n",
       "    </tr>\n",
       "  </thead>\n",
       "  <tbody>\n",
       "    <tr>\n",
       "      <th>0</th>\n",
       "      <td>Adelaide, King, Richmond</td>\n",
       "      <td>0.030000</td>\n",
       "      <td>1</td>\n",
       "    </tr>\n",
       "    <tr>\n",
       "      <th>1</th>\n",
       "      <td>Agincourt</td>\n",
       "      <td>0.000000</td>\n",
       "      <td>1</td>\n",
       "    </tr>\n",
       "    <tr>\n",
       "      <th>2</th>\n",
       "      <td>Agincourt North, L'Amoreaux East, Milliken, St...</td>\n",
       "      <td>0.000000</td>\n",
       "      <td>1</td>\n",
       "    </tr>\n",
       "    <tr>\n",
       "      <th>3</th>\n",
       "      <td>Albion Gardens, Beaumond Heights, Humbergate, ...</td>\n",
       "      <td>0.000000</td>\n",
       "      <td>1</td>\n",
       "    </tr>\n",
       "    <tr>\n",
       "      <th>4</th>\n",
       "      <td>Alderwood, Long Branch</td>\n",
       "      <td>0.111111</td>\n",
       "      <td>0</td>\n",
       "    </tr>\n",
       "  </tbody>\n",
       "</table>\n",
       "</div>"
      ],
      "text/plain": [
       "                                        Neighborhood       Gym  Cluster Labels\n",
       "0                           Adelaide, King, Richmond  0.030000               1\n",
       "1                                          Agincourt  0.000000               1\n",
       "2  Agincourt North, L'Amoreaux East, Milliken, St...  0.000000               1\n",
       "3  Albion Gardens, Beaumond Heights, Humbergate, ...  0.000000               1\n",
       "4                             Alderwood, Long Branch  0.111111               0"
      ]
     },
     "execution_count": 89,
     "metadata": {},
     "output_type": "execute_result"
    }
   ],
   "source": [
    "to_merged.rename(columns={\"Neighborhoods\": \"Neighborhood\"}, inplace=True)\n",
    "\n",
    "to_merged.head()"
   ]
  },
  {
   "cell_type": "markdown",
   "metadata": {},
   "source": [
    "#### Joining this dataset with the dataset for neighborhoods (including their latitude and longitude) "
   ]
  },
  {
   "cell_type": "code",
   "execution_count": 91,
   "metadata": {},
   "outputs": [
    {
     "name": "stdout",
     "output_type": "stream",
     "text": [
      "(103, 7)\n"
     ]
    },
    {
     "data": {
      "text/html": [
       "<div>\n",
       "<style scoped>\n",
       "    .dataframe tbody tr th:only-of-type {\n",
       "        vertical-align: middle;\n",
       "    }\n",
       "\n",
       "    .dataframe tbody tr th {\n",
       "        vertical-align: top;\n",
       "    }\n",
       "\n",
       "    .dataframe thead th {\n",
       "        text-align: right;\n",
       "    }\n",
       "</style>\n",
       "<table border=\"1\" class=\"dataframe\">\n",
       "  <thead>\n",
       "    <tr style=\"text-align: right;\">\n",
       "      <th></th>\n",
       "      <th>PostalCode</th>\n",
       "      <th>Borough</th>\n",
       "      <th>Neighborhood</th>\n",
       "      <th>Latitude</th>\n",
       "      <th>Longitude</th>\n",
       "      <th>Gym</th>\n",
       "      <th>Cluster Labels</th>\n",
       "    </tr>\n",
       "  </thead>\n",
       "  <tbody>\n",
       "    <tr>\n",
       "      <th>0</th>\n",
       "      <td>M1B</td>\n",
       "      <td>Scarborough</td>\n",
       "      <td>Rouge, Malvern</td>\n",
       "      <td>43.806686</td>\n",
       "      <td>-79.194353</td>\n",
       "      <td>0.0</td>\n",
       "      <td>1.0</td>\n",
       "    </tr>\n",
       "    <tr>\n",
       "      <th>1</th>\n",
       "      <td>M1C</td>\n",
       "      <td>Scarborough</td>\n",
       "      <td>Highland Creek, Rouge Hill, Port Union</td>\n",
       "      <td>43.784535</td>\n",
       "      <td>-79.160497</td>\n",
       "      <td>0.0</td>\n",
       "      <td>1.0</td>\n",
       "    </tr>\n",
       "    <tr>\n",
       "      <th>2</th>\n",
       "      <td>M1E</td>\n",
       "      <td>Scarborough</td>\n",
       "      <td>Guildwood, Morningside, West Hill</td>\n",
       "      <td>43.763573</td>\n",
       "      <td>-79.188711</td>\n",
       "      <td>0.0</td>\n",
       "      <td>1.0</td>\n",
       "    </tr>\n",
       "    <tr>\n",
       "      <th>3</th>\n",
       "      <td>M1G</td>\n",
       "      <td>Scarborough</td>\n",
       "      <td>Woburn</td>\n",
       "      <td>43.770992</td>\n",
       "      <td>-79.216917</td>\n",
       "      <td>0.0</td>\n",
       "      <td>1.0</td>\n",
       "    </tr>\n",
       "    <tr>\n",
       "      <th>4</th>\n",
       "      <td>M1H</td>\n",
       "      <td>Scarborough</td>\n",
       "      <td>Cedarbrae</td>\n",
       "      <td>43.773136</td>\n",
       "      <td>-79.239476</td>\n",
       "      <td>0.0</td>\n",
       "      <td>1.0</td>\n",
       "    </tr>\n",
       "  </tbody>\n",
       "</table>\n",
       "</div>"
      ],
      "text/plain": [
       "  PostalCode      Borough                            Neighborhood   Latitude  \\\n",
       "0        M1B  Scarborough                          Rouge, Malvern  43.806686   \n",
       "1        M1C  Scarborough  Highland Creek, Rouge Hill, Port Union  43.784535   \n",
       "2        M1E  Scarborough       Guildwood, Morningside, West Hill  43.763573   \n",
       "3        M1G  Scarborough                                  Woburn  43.770992   \n",
       "4        M1H  Scarborough                               Cedarbrae  43.773136   \n",
       "\n",
       "   Longitude  Gym  Cluster Labels  \n",
       "0 -79.194353  0.0             1.0  \n",
       "1 -79.160497  0.0             1.0  \n",
       "2 -79.188711  0.0             1.0  \n",
       "3 -79.216917  0.0             1.0  \n",
       "4 -79.239476  0.0             1.0  "
      ]
     },
     "execution_count": 91,
     "metadata": {},
     "output_type": "execute_result"
    }
   ],
   "source": [
    "# merge to_merged with toronto_data to add latitude/longitude for each neighborhood\n",
    "df_toronto = df_toronto.join(to_merged.set_index('Neighborhood'), on=\"Neighborhood\")\n",
    "\n",
    "print(\"The of the new dataset is:\", df_toronto.shape)\n",
    "df_toronto.head()"
   ]
  },
  {
   "cell_type": "code",
   "execution_count": null,
   "metadata": {},
   "outputs": [],
   "source": [
    "#Replacing any NaN with 0 for visualising and analysis purpose\n",
    "df_toronto.replace(np.nan , 0, inplace=True)\n",
    "df_toronto.head()"
   ]
  },
  {
   "cell_type": "markdown",
   "metadata": {},
   "source": [
    "#### Visualizing the clusters"
   ]
  },
  {
   "cell_type": "code",
   "execution_count": 94,
   "metadata": {},
   "outputs": [],
   "source": [
    "# Matplotlib and associated plotting modules\n",
    "import matplotlib.cm as cm\n",
    "import matplotlib.colors as colors"
   ]
  },
  {
   "cell_type": "code",
   "execution_count": 95,
   "metadata": {},
   "outputs": [
    {
     "data": {
      "text/html": [
       "<div style=\"width:100%;\"><div style=\"position:relative;width:100%;height:0;padding-bottom:60%;\"><iframe src=\"data:text/html;charset=utf-8;base64,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\" style=\"position:absolute;width:100%;height:100%;left:0;top:0;border:none !important;\" allowfullscreen webkitallowfullscreen mozallowfullscreen></iframe></div></div>"
      ],
      "text/plain": [
       "<folium.folium.Map at 0x7f82b4258dd8>"
      ]
     },
     "execution_count": 95,
     "metadata": {},
     "output_type": "execute_result"
    }
   ],
   "source": [
    "# create map\n",
    "map_clusters = folium.Map(location=[lat_toronto, lon_toronto], zoom_start=11)\n",
    "\n",
    "# set color scheme for the clusters\n",
    "x = np.arange(toclusters)\n",
    "ys = [i + x + (i*x)**2 for i in range(toclusters)]\n",
    "colors_array = cm.rainbow(np.linspace(0, 1, len(ys)))\n",
    "rainbow = [colors.rgb2hex(i) for i in colors_array]\n",
    "\n",
    "# add markers to the map\n",
    "markers_colors = []\n",
    "for lat, lon, poi, cluster in zip(df_toronto['Latitude'], df_toronto['Longitude'], df_toronto['Neighborhood'], df_toronto['Cluster Labels']):\n",
    "    if (np.isnan(cluster) or (cluster != cluster) or np.isnan(lat) or np.isnan(lon)):\n",
    "        continue\n",
    "    label = folium.Popup(str(poi) + ' Cluster ' + str(cluster), parse_html=True)\n",
    "    folium.CircleMarker(\n",
    "        [lat, lon],\n",
    "        radius=5,\n",
    "        popup=label,\n",
    "        color=rainbow[int(cluster)-1],\n",
    "        fill=True,\n",
    "        fill_color=rainbow[int(cluster)-1],\n",
    "        fill_opacity=0.7).add_to(map_clusters)\n",
    "       \n",
    "map_clusters"
   ]
  },
  {
   "cell_type": "code",
   "execution_count": 99,
   "metadata": {},
   "outputs": [],
   "source": [
    "# save the map as HTML file\n",
    "map_clusters.save('map_clusters_complete.html')"
   ]
  },
  {
   "cell_type": "markdown",
   "metadata": {},
   "source": [
    "## Analysis <a name=\"analysis\"></a>"
   ]
  },
  {
   "cell_type": "markdown",
   "metadata": {},
   "source": [
    "#### CLUSTER 0"
   ]
  },
  {
   "cell_type": "code",
   "execution_count": 96,
   "metadata": {},
   "outputs": [
    {
     "data": {
      "text/html": [
       "<div>\n",
       "<style scoped>\n",
       "    .dataframe tbody tr th:only-of-type {\n",
       "        vertical-align: middle;\n",
       "    }\n",
       "\n",
       "    .dataframe tbody tr th {\n",
       "        vertical-align: top;\n",
       "    }\n",
       "\n",
       "    .dataframe thead th {\n",
       "        text-align: right;\n",
       "    }\n",
       "</style>\n",
       "<table border=\"1\" class=\"dataframe\">\n",
       "  <thead>\n",
       "    <tr style=\"text-align: right;\">\n",
       "      <th></th>\n",
       "      <th>Neighborhood</th>\n",
       "      <th>Gym</th>\n",
       "      <th>Cluster Labels</th>\n",
       "    </tr>\n",
       "  </thead>\n",
       "  <tbody>\n",
       "    <tr>\n",
       "      <th>4</th>\n",
       "      <td>Alderwood, Long Branch</td>\n",
       "      <td>0.111111</td>\n",
       "      <td>0</td>\n",
       "    </tr>\n",
       "    <tr>\n",
       "      <th>11</th>\n",
       "      <td>Brockton, Exhibition Place, Parkdale Village</td>\n",
       "      <td>0.090909</td>\n",
       "      <td>0</td>\n",
       "    </tr>\n",
       "    <tr>\n",
       "      <th>12</th>\n",
       "      <td>Business Reply Mail Processing Centre 969 Eastern</td>\n",
       "      <td>0.066667</td>\n",
       "      <td>0</td>\n",
       "    </tr>\n",
       "    <tr>\n",
       "      <th>17</th>\n",
       "      <td>Canada Post Gateway Processing Centre</td>\n",
       "      <td>0.090909</td>\n",
       "      <td>0</td>\n",
       "    </tr>\n",
       "    <tr>\n",
       "      <th>26</th>\n",
       "      <td>Commerce Court, Victoria Hotel</td>\n",
       "      <td>0.040000</td>\n",
       "      <td>0</td>\n",
       "    </tr>\n",
       "    <tr>\n",
       "      <th>27</th>\n",
       "      <td>Davisville</td>\n",
       "      <td>0.055556</td>\n",
       "      <td>0</td>\n",
       "    </tr>\n",
       "    <tr>\n",
       "      <th>28</th>\n",
       "      <td>Davisville North</td>\n",
       "      <td>0.125000</td>\n",
       "      <td>0</td>\n",
       "    </tr>\n",
       "    <tr>\n",
       "      <th>34</th>\n",
       "      <td>Dovercourt Village, Dufferin</td>\n",
       "      <td>0.066667</td>\n",
       "      <td>0</td>\n",
       "    </tr>\n",
       "    <tr>\n",
       "      <th>43</th>\n",
       "      <td>First Canadian Place, Underground city</td>\n",
       "      <td>0.040000</td>\n",
       "      <td>0</td>\n",
       "    </tr>\n",
       "    <tr>\n",
       "      <th>44</th>\n",
       "      <td>Flemingdon Park, Don Mills South</td>\n",
       "      <td>0.095238</td>\n",
       "      <td>0</td>\n",
       "    </tr>\n",
       "    <tr>\n",
       "      <th>48</th>\n",
       "      <td>Harbord, University of Toronto</td>\n",
       "      <td>0.054054</td>\n",
       "      <td>0</td>\n",
       "    </tr>\n",
       "    <tr>\n",
       "      <th>54</th>\n",
       "      <td>Humber Bay Shores, Mimico South, New Toronto</td>\n",
       "      <td>0.083333</td>\n",
       "      <td>0</td>\n",
       "    </tr>\n",
       "    <tr>\n",
       "      <th>59</th>\n",
       "      <td>Kingsway Park South West, Mimico NW, The Queen...</td>\n",
       "      <td>0.076923</td>\n",
       "      <td>0</td>\n",
       "    </tr>\n",
       "    <tr>\n",
       "      <th>68</th>\n",
       "      <td>North Toronto West</td>\n",
       "      <td>0.050000</td>\n",
       "      <td>0</td>\n",
       "    </tr>\n",
       "    <tr>\n",
       "      <th>73</th>\n",
       "      <td>Queen's Park</td>\n",
       "      <td>0.052632</td>\n",
       "      <td>0</td>\n",
       "    </tr>\n",
       "    <tr>\n",
       "      <th>86</th>\n",
       "      <td>The Beaches West, India Bazaar</td>\n",
       "      <td>0.050000</td>\n",
       "      <td>0</td>\n",
       "    </tr>\n",
       "    <tr>\n",
       "      <th>90</th>\n",
       "      <td>Thorncliffe Park</td>\n",
       "      <td>0.052632</td>\n",
       "      <td>0</td>\n",
       "    </tr>\n",
       "    <tr>\n",
       "      <th>97</th>\n",
       "      <td>Woodbine Gardens, Parkview Hill</td>\n",
       "      <td>0.076923</td>\n",
       "      <td>0</td>\n",
       "    </tr>\n",
       "  </tbody>\n",
       "</table>\n",
       "</div>"
      ],
      "text/plain": [
       "                                         Neighborhood       Gym  \\\n",
       "4                              Alderwood, Long Branch  0.111111   \n",
       "11       Brockton, Exhibition Place, Parkdale Village  0.090909   \n",
       "12  Business Reply Mail Processing Centre 969 Eastern  0.066667   \n",
       "17              Canada Post Gateway Processing Centre  0.090909   \n",
       "26                     Commerce Court, Victoria Hotel  0.040000   \n",
       "27                                         Davisville  0.055556   \n",
       "28                                   Davisville North  0.125000   \n",
       "34                       Dovercourt Village, Dufferin  0.066667   \n",
       "43             First Canadian Place, Underground city  0.040000   \n",
       "44                   Flemingdon Park, Don Mills South  0.095238   \n",
       "48                     Harbord, University of Toronto  0.054054   \n",
       "54       Humber Bay Shores, Mimico South, New Toronto  0.083333   \n",
       "59  Kingsway Park South West, Mimico NW, The Queen...  0.076923   \n",
       "68                                 North Toronto West  0.050000   \n",
       "73                                       Queen's Park  0.052632   \n",
       "86                     The Beaches West, India Bazaar  0.050000   \n",
       "90                                   Thorncliffe Park  0.052632   \n",
       "97                    Woodbine Gardens, Parkview Hill  0.076923   \n",
       "\n",
       "    Cluster Labels  \n",
       "4                0  \n",
       "11               0  \n",
       "12               0  \n",
       "17               0  \n",
       "26               0  \n",
       "27               0  \n",
       "28               0  \n",
       "34               0  \n",
       "43               0  \n",
       "44               0  \n",
       "48               0  \n",
       "54               0  \n",
       "59               0  \n",
       "68               0  \n",
       "73               0  \n",
       "86               0  \n",
       "90               0  \n",
       "97               0  "
      ]
     },
     "execution_count": 96,
     "metadata": {},
     "output_type": "execute_result"
    }
   ],
   "source": [
    "to_merged.loc[to_merged['Cluster Labels'] == 0]"
   ]
  },
  {
   "cell_type": "markdown",
   "metadata": {},
   "source": [
    "#### CLUSTER 1"
   ]
  },
  {
   "cell_type": "code",
   "execution_count": 97,
   "metadata": {},
   "outputs": [
    {
     "data": {
      "text/html": [
       "<div>\n",
       "<style scoped>\n",
       "    .dataframe tbody tr th:only-of-type {\n",
       "        vertical-align: middle;\n",
       "    }\n",
       "\n",
       "    .dataframe tbody tr th {\n",
       "        vertical-align: top;\n",
       "    }\n",
       "\n",
       "    .dataframe thead th {\n",
       "        text-align: right;\n",
       "    }\n",
       "</style>\n",
       "<table border=\"1\" class=\"dataframe\">\n",
       "  <thead>\n",
       "    <tr style=\"text-align: right;\">\n",
       "      <th></th>\n",
       "      <th>Neighborhood</th>\n",
       "      <th>Gym</th>\n",
       "      <th>Cluster Labels</th>\n",
       "    </tr>\n",
       "  </thead>\n",
       "  <tbody>\n",
       "    <tr>\n",
       "      <th>0</th>\n",
       "      <td>Adelaide, King, Richmond</td>\n",
       "      <td>0.03</td>\n",
       "      <td>1</td>\n",
       "    </tr>\n",
       "    <tr>\n",
       "      <th>1</th>\n",
       "      <td>Agincourt</td>\n",
       "      <td>0.00</td>\n",
       "      <td>1</td>\n",
       "    </tr>\n",
       "    <tr>\n",
       "      <th>2</th>\n",
       "      <td>Agincourt North, L'Amoreaux East, Milliken, St...</td>\n",
       "      <td>0.00</td>\n",
       "      <td>1</td>\n",
       "    </tr>\n",
       "    <tr>\n",
       "      <th>3</th>\n",
       "      <td>Albion Gardens, Beaumond Heights, Humbergate, ...</td>\n",
       "      <td>0.00</td>\n",
       "      <td>1</td>\n",
       "    </tr>\n",
       "    <tr>\n",
       "      <th>5</th>\n",
       "      <td>Bathurst Manor, Downsview North, Wilson Heights</td>\n",
       "      <td>0.00</td>\n",
       "      <td>1</td>\n",
       "    </tr>\n",
       "    <tr>\n",
       "      <th>...</th>\n",
       "      <td>...</td>\n",
       "      <td>...</td>\n",
       "      <td>...</td>\n",
       "    </tr>\n",
       "    <tr>\n",
       "      <th>94</th>\n",
       "      <td>Willowdale South</td>\n",
       "      <td>0.00</td>\n",
       "      <td>1</td>\n",
       "    </tr>\n",
       "    <tr>\n",
       "      <th>95</th>\n",
       "      <td>Willowdale West</td>\n",
       "      <td>0.00</td>\n",
       "      <td>1</td>\n",
       "    </tr>\n",
       "    <tr>\n",
       "      <th>96</th>\n",
       "      <td>Woburn</td>\n",
       "      <td>0.00</td>\n",
       "      <td>1</td>\n",
       "    </tr>\n",
       "    <tr>\n",
       "      <th>98</th>\n",
       "      <td>Woodbine Heights</td>\n",
       "      <td>0.00</td>\n",
       "      <td>1</td>\n",
       "    </tr>\n",
       "    <tr>\n",
       "      <th>99</th>\n",
       "      <td>York Mills West</td>\n",
       "      <td>0.00</td>\n",
       "      <td>1</td>\n",
       "    </tr>\n",
       "  </tbody>\n",
       "</table>\n",
       "<p>80 rows × 3 columns</p>\n",
       "</div>"
      ],
      "text/plain": [
       "                                         Neighborhood   Gym  Cluster Labels\n",
       "0                            Adelaide, King, Richmond  0.03               1\n",
       "1                                           Agincourt  0.00               1\n",
       "2   Agincourt North, L'Amoreaux East, Milliken, St...  0.00               1\n",
       "3   Albion Gardens, Beaumond Heights, Humbergate, ...  0.00               1\n",
       "5     Bathurst Manor, Downsview North, Wilson Heights  0.00               1\n",
       "..                                                ...   ...             ...\n",
       "94                                   Willowdale South  0.00               1\n",
       "95                                    Willowdale West  0.00               1\n",
       "96                                             Woburn  0.00               1\n",
       "98                                   Woodbine Heights  0.00               1\n",
       "99                                    York Mills West  0.00               1\n",
       "\n",
       "[80 rows x 3 columns]"
      ]
     },
     "execution_count": 97,
     "metadata": {},
     "output_type": "execute_result"
    }
   ],
   "source": [
    "to_merged.loc[to_merged['Cluster Labels'] == 1]"
   ]
  },
  {
   "cell_type": "markdown",
   "metadata": {},
   "source": [
    "#### CLUSTER 2"
   ]
  },
  {
   "cell_type": "code",
   "execution_count": 98,
   "metadata": {},
   "outputs": [
    {
     "data": {
      "text/html": [
       "<div>\n",
       "<style scoped>\n",
       "    .dataframe tbody tr th:only-of-type {\n",
       "        vertical-align: middle;\n",
       "    }\n",
       "\n",
       "    .dataframe tbody tr th {\n",
       "        vertical-align: top;\n",
       "    }\n",
       "\n",
       "    .dataframe thead th {\n",
       "        text-align: right;\n",
       "    }\n",
       "</style>\n",
       "<table border=\"1\" class=\"dataframe\">\n",
       "  <thead>\n",
       "    <tr style=\"text-align: right;\">\n",
       "      <th></th>\n",
       "      <th>Neighborhood</th>\n",
       "      <th>Gym</th>\n",
       "      <th>Cluster Labels</th>\n",
       "    </tr>\n",
       "  </thead>\n",
       "  <tbody>\n",
       "    <tr>\n",
       "      <th>32</th>\n",
       "      <td>Don Mills North</td>\n",
       "      <td>0.2</td>\n",
       "      <td>2</td>\n",
       "    </tr>\n",
       "    <tr>\n",
       "      <th>36</th>\n",
       "      <td>Downsview Northwest</td>\n",
       "      <td>0.2</td>\n",
       "      <td>2</td>\n",
       "    </tr>\n",
       "  </tbody>\n",
       "</table>\n",
       "</div>"
      ],
      "text/plain": [
       "           Neighborhood  Gym  Cluster Labels\n",
       "32      Don Mills North  0.2               2\n",
       "36  Downsview Northwest  0.2               2"
      ]
     },
     "execution_count": 98,
     "metadata": {},
     "output_type": "execute_result"
    }
   ],
   "source": [
    "to_merged.loc[to_merged['Cluster Labels'] == 2]"
   ]
  },
  {
   "cell_type": "markdown",
   "metadata": {},
   "source": [
    "## Results <a name=\"results\"></a>"
   ]
  },
  {
   "cell_type": "markdown",
   "metadata": {},
   "source": [
    "We have used K-means clustering to form 3 kinds of clusters:  \n",
    "* **Cluster 2**: Neighborhoods with a lot of Gyms in the area \n",
    "* **Cluster 1**: Neighborhoods with no Gym in the area \n",
    "* **Cluster 0**: Neighborhood with less or no Gyms in the area"
   ]
  },
  {
   "cell_type": "markdown",
   "metadata": {},
   "source": [
    "Based on the clusters formed, there are 2 Neighborhoods with high number of Gyms/Fitness Centers. These are **Don Mills North** and **Downsview Northwest**. These locations belong to the **Cluster 2** and have **Turquoise** colored markers in the MapView."
   ]
  },
  {
   "cell_type": "markdown",
   "metadata": {},
   "source": [
    "## Discussion <a name=\"discussion\"></a>"
   ]
  },
  {
   "cell_type": "markdown",
   "metadata": {},
   "source": [
    "Based on the results drawn from the analysis, I would like to recommend Don Mills North and Downsview Northwest for opening the first outlet of EAT-TO-GET-FIT. Now, the next step will be to incorporate factors like size of the available space, distance from gym/fitness center, price of the available space, demographic factors of the neighborhood, etc. to recommend the final specific location is outside the scope of this project due to the timeline attached. However, the key take-away would be that these 2 areas are great to start with the on-ground street exploration for the ultimate outlet location."
   ]
  },
  {
   "cell_type": "markdown",
   "metadata": {},
   "source": [
    "## Conclusion <a name=\"conclusion\"></a>"
   ]
  },
  {
   "cell_type": "markdown",
   "metadata": {},
   "source": [
    "In this study, I have analyzed the neighborhoods and venue categories in Toronto, Canada. As I wanted to open the first outlet near the fitness centers/gyms, I built clustering model to identify the most potential areas. Based on the data, Don Mills North and Downsview are the 2 most suitable areas for opening the outlet. This model will be very useful when we will expand the chain of EAT-TO-GET-FIT to other parts of Toronto and later, Canada.  "
   ]
  },
  {
   "cell_type": "code",
   "execution_count": null,
   "metadata": {},
   "outputs": [],
   "source": []
  }
 ],
 "metadata": {
  "kernelspec": {
   "display_name": "Python 3.6",
   "language": "python",
   "name": "python3"
  },
  "language_info": {
   "codemirror_mode": {
    "name": "ipython",
    "version": 3
   },
   "file_extension": ".py",
   "mimetype": "text/x-python",
   "name": "python",
   "nbconvert_exporter": "python",
   "pygments_lexer": "ipython3",
   "version": "3.6.9"
  }
 },
 "nbformat": 4,
 "nbformat_minor": 4
}
